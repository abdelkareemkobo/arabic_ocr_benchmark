{
 "cells": [
  {
   "cell_type": "code",
   "execution_count": 1,
   "metadata": {},
   "outputs": [],
   "source": [
    "import pandas as pd"
   ]
  },
  {
   "cell_type": "code",
   "execution_count": 2,
   "metadata": {},
   "outputs": [],
   "source": [
    "new_ground_truth = \"text\"\n",
    "new_pred = \"prediction\"\n",
    "ground_truth = \"ground_truth\"\n",
    "model_output = \"tessseract\"\n",
    "dataset_name = \"ahmedheakl/arocrbench_hindawi\""
   ]
  },
  {
   "cell_type": "code",
   "execution_count": 3,
   "metadata": {},
   "outputs": [],
   "source": [
    "def extract_text(x):\n",
    "    try:\n",
    "        return ast.literal_eval(x)['text']\n",
    "    except:\n",
    "        return None"
   ]
  },
  {
   "cell_type": "code",
   "execution_count": 4,
   "metadata": {},
   "outputs": [
    {
     "data": {
      "text/html": [
       "<div>\n",
       "<style scoped>\n",
       "    .dataframe tbody tr th:only-of-type {\n",
       "        vertical-align: middle;\n",
       "    }\n",
       "\n",
       "    .dataframe tbody tr th {\n",
       "        vertical-align: top;\n",
       "    }\n",
       "\n",
       "    .dataframe thead th {\n",
       "        text-align: right;\n",
       "    }\n",
       "</style>\n",
       "<table border=\"1\" class=\"dataframe\">\n",
       "  <thead>\n",
       "    <tr style=\"text-align: right;\">\n",
       "      <th></th>\n",
       "      <th>dataset</th>\n",
       "      <th>image</th>\n",
       "      <th>ground_truth</th>\n",
       "      <th>easyocr</th>\n",
       "      <th>tesseract</th>\n",
       "      <th>status</th>\n",
       "    </tr>\n",
       "  </thead>\n",
       "  <tbody>\n",
       "    <tr>\n",
       "      <th>0</th>\n",
       "      <td>ahmedheakl/arocrbench_synthesizear</td>\n",
       "      <td>&lt;PIL.JpegImagePlugin.JpegImageFile image mode=...</td>\n",
       "      <td>وَإِذا ما سَأَلَتْنِي عَن مَعْنَى لَفَظَهُ \"عر...</td>\n",
       "      <td>{'text': 'لفظهً \" عرب \" عندً عن واذا ما سألتني...</td>\n",
       "      <td>{'text': 'وَإِذا ما سَألْْيِي عَن مَعْنَى لَفَ...</td>\n",
       "      <td>success</td>\n",
       "    </tr>\n",
       "    <tr>\n",
       "      <th>1</th>\n",
       "      <td>ahmedheakl/arocrbench_synthesizear</td>\n",
       "      <td>&lt;PIL.JpegImagePlugin.JpegImageFile image mode=...</td>\n",
       "      <td>أَمّا فَهُم النُصُوصِ وَاِسْتِنْباط مَعانِيها ...</td>\n",
       "      <td>{'text': '_ النضوص واستنباط قعانيها بؤجه ضجيح ...</td>\n",
       "      <td>{'text': 'أما فَهُم النْصْوصٍ واشتئباط قعانيها...</td>\n",
       "      <td>success</td>\n",
       "    </tr>\n",
       "    <tr>\n",
       "      <th>2</th>\n",
       "      <td>ahmedheakl/arocrbench_synthesizear</td>\n",
       "      <td>&lt;PIL.JpegImagePlugin.JpegImageFile image mode=...</td>\n",
       "      <td>تُثِير فِيها الاسود، وَهُوَ ما يَتَعارَض مَعَ ...</td>\n",
       "      <td>{'text': 'تثير فيها الاسود وهو ما يتعارض مع اك...</td>\n",
       "      <td>{'text': 'تَثْير فيها الاسود. وَهَوٍ ما تَتَعا...</td>\n",
       "      <td>success</td>\n",
       "    </tr>\n",
       "    <tr>\n",
       "      <th>3</th>\n",
       "      <td>ahmedheakl/arocrbench_synthesizear</td>\n",
       "      <td>&lt;PIL.JpegImagePlugin.JpegImageFile image mode=...</td>\n",
       "      <td>الجماعي، وَكادَت تَصِل إِلَى المَرْحَلَةِ الاِ...</td>\n",
       "      <td>{'text': 'وكادت تصل إلى المزحلة الاشتاكيًة لسي...</td>\n",
       "      <td>{'text': 'لَى المَرْحَلَةِ الإشترايّة لسَيْطرة...</td>\n",
       "      <td>success</td>\n",
       "    </tr>\n",
       "    <tr>\n",
       "      <th>4</th>\n",
       "      <td>ahmedheakl/arocrbench_synthesizear</td>\n",
       "      <td>&lt;PIL.JpegImagePlugin.JpegImageFile image mode=...</td>\n",
       "      <td>مَعَهُ مَنْدِيلا فِيهِ جردقتان وَقَطَعَ لَحْم ...</td>\n",
       "      <td>{'text': 'معهً منديلا فيه جردقتان وقطع سحباج آ...</td>\n",
       "      <td>{'text': 'مَعهَ منديلا فيه جردقتان وَفَطعَ لخم...</td>\n",
       "      <td>success</td>\n",
       "    </tr>\n",
       "  </tbody>\n",
       "</table>\n",
       "</div>"
      ],
      "text/plain": [
       "                              dataset  \\\n",
       "0  ahmedheakl/arocrbench_synthesizear   \n",
       "1  ahmedheakl/arocrbench_synthesizear   \n",
       "2  ahmedheakl/arocrbench_synthesizear   \n",
       "3  ahmedheakl/arocrbench_synthesizear   \n",
       "4  ahmedheakl/arocrbench_synthesizear   \n",
       "\n",
       "                                               image  \\\n",
       "0  <PIL.JpegImagePlugin.JpegImageFile image mode=...   \n",
       "1  <PIL.JpegImagePlugin.JpegImageFile image mode=...   \n",
       "2  <PIL.JpegImagePlugin.JpegImageFile image mode=...   \n",
       "3  <PIL.JpegImagePlugin.JpegImageFile image mode=...   \n",
       "4  <PIL.JpegImagePlugin.JpegImageFile image mode=...   \n",
       "\n",
       "                                        ground_truth  \\\n",
       "0  وَإِذا ما سَأَلَتْنِي عَن مَعْنَى لَفَظَهُ \"عر...   \n",
       "1  أَمّا فَهُم النُصُوصِ وَاِسْتِنْباط مَعانِيها ...   \n",
       "2  تُثِير فِيها الاسود، وَهُوَ ما يَتَعارَض مَعَ ...   \n",
       "3  الجماعي، وَكادَت تَصِل إِلَى المَرْحَلَةِ الاِ...   \n",
       "4  مَعَهُ مَنْدِيلا فِيهِ جردقتان وَقَطَعَ لَحْم ...   \n",
       "\n",
       "                                             easyocr  \\\n",
       "0  {'text': 'لفظهً \" عرب \" عندً عن واذا ما سألتني...   \n",
       "1  {'text': '_ النضوص واستنباط قعانيها بؤجه ضجيح ...   \n",
       "2  {'text': 'تثير فيها الاسود وهو ما يتعارض مع اك...   \n",
       "3  {'text': 'وكادت تصل إلى المزحلة الاشتاكيًة لسي...   \n",
       "4  {'text': 'معهً منديلا فيه جردقتان وقطع سحباج آ...   \n",
       "\n",
       "                                           tesseract   status  \n",
       "0  {'text': 'وَإِذا ما سَألْْيِي عَن مَعْنَى لَفَ...  success  \n",
       "1  {'text': 'أما فَهُم النْصْوصٍ واشتئباط قعانيها...  success  \n",
       "2  {'text': 'تَثْير فيها الاسود. وَهَوٍ ما تَتَعا...  success  \n",
       "3  {'text': 'لَى المَرْحَلَةِ الإشترايّة لسَيْطرة...  success  \n",
       "4  {'text': 'مَعهَ منديلا فيه جردقتان وَفَطعَ لخم...  success  "
      ]
     },
     "execution_count": 4,
     "metadata": {},
     "output_type": "execute_result"
    }
   ],
   "source": [
    "df = pd.read_csv(\"../all_nonllms.csv\",index_col=\"Unnamed: 0\")\n",
    "df.head()"
   ]
  },
  {
   "cell_type": "code",
   "execution_count": 5,
   "metadata": {},
   "outputs": [
    {
     "data": {
      "text/html": [
       "<div>\n",
       "<style scoped>\n",
       "    .dataframe tbody tr th:only-of-type {\n",
       "        vertical-align: middle;\n",
       "    }\n",
       "\n",
       "    .dataframe tbody tr th {\n",
       "        vertical-align: top;\n",
       "    }\n",
       "\n",
       "    .dataframe thead th {\n",
       "        text-align: right;\n",
       "    }\n",
       "</style>\n",
       "<table border=\"1\" class=\"dataframe\">\n",
       "  <thead>\n",
       "    <tr style=\"text-align: right;\">\n",
       "      <th></th>\n",
       "      <th>dataset</th>\n",
       "      <th>image</th>\n",
       "      <th>ground_truth</th>\n",
       "      <th>easyocr</th>\n",
       "      <th>tesseract</th>\n",
       "      <th>status</th>\n",
       "    </tr>\n",
       "  </thead>\n",
       "  <tbody>\n",
       "    <tr>\n",
       "      <th>0</th>\n",
       "      <td>ahmedheakl/arocrbench_synthesizear</td>\n",
       "      <td>&lt;PIL.JpegImagePlugin.JpegImageFile image mode=...</td>\n",
       "      <td>وَإِذا ما سَأَلَتْنِي عَن مَعْنَى لَفَظَهُ \"عر...</td>\n",
       "      <td>None</td>\n",
       "      <td>None</td>\n",
       "      <td>success</td>\n",
       "    </tr>\n",
       "    <tr>\n",
       "      <th>1</th>\n",
       "      <td>ahmedheakl/arocrbench_synthesizear</td>\n",
       "      <td>&lt;PIL.JpegImagePlugin.JpegImageFile image mode=...</td>\n",
       "      <td>أَمّا فَهُم النُصُوصِ وَاِسْتِنْباط مَعانِيها ...</td>\n",
       "      <td>None</td>\n",
       "      <td>None</td>\n",
       "      <td>success</td>\n",
       "    </tr>\n",
       "    <tr>\n",
       "      <th>2</th>\n",
       "      <td>ahmedheakl/arocrbench_synthesizear</td>\n",
       "      <td>&lt;PIL.JpegImagePlugin.JpegImageFile image mode=...</td>\n",
       "      <td>تُثِير فِيها الاسود، وَهُوَ ما يَتَعارَض مَعَ ...</td>\n",
       "      <td>None</td>\n",
       "      <td>None</td>\n",
       "      <td>success</td>\n",
       "    </tr>\n",
       "    <tr>\n",
       "      <th>3</th>\n",
       "      <td>ahmedheakl/arocrbench_synthesizear</td>\n",
       "      <td>&lt;PIL.JpegImagePlugin.JpegImageFile image mode=...</td>\n",
       "      <td>الجماعي، وَكادَت تَصِل إِلَى المَرْحَلَةِ الاِ...</td>\n",
       "      <td>None</td>\n",
       "      <td>None</td>\n",
       "      <td>success</td>\n",
       "    </tr>\n",
       "    <tr>\n",
       "      <th>4</th>\n",
       "      <td>ahmedheakl/arocrbench_synthesizear</td>\n",
       "      <td>&lt;PIL.JpegImagePlugin.JpegImageFile image mode=...</td>\n",
       "      <td>مَعَهُ مَنْدِيلا فِيهِ جردقتان وَقَطَعَ لَحْم ...</td>\n",
       "      <td>None</td>\n",
       "      <td>None</td>\n",
       "      <td>success</td>\n",
       "    </tr>\n",
       "  </tbody>\n",
       "</table>\n",
       "</div>"
      ],
      "text/plain": [
       "                              dataset  \\\n",
       "0  ahmedheakl/arocrbench_synthesizear   \n",
       "1  ahmedheakl/arocrbench_synthesizear   \n",
       "2  ahmedheakl/arocrbench_synthesizear   \n",
       "3  ahmedheakl/arocrbench_synthesizear   \n",
       "4  ahmedheakl/arocrbench_synthesizear   \n",
       "\n",
       "                                               image  \\\n",
       "0  <PIL.JpegImagePlugin.JpegImageFile image mode=...   \n",
       "1  <PIL.JpegImagePlugin.JpegImageFile image mode=...   \n",
       "2  <PIL.JpegImagePlugin.JpegImageFile image mode=...   \n",
       "3  <PIL.JpegImagePlugin.JpegImageFile image mode=...   \n",
       "4  <PIL.JpegImagePlugin.JpegImageFile image mode=...   \n",
       "\n",
       "                                        ground_truth easyocr tesseract  \\\n",
       "0  وَإِذا ما سَأَلَتْنِي عَن مَعْنَى لَفَظَهُ \"عر...    None      None   \n",
       "1  أَمّا فَهُم النُصُوصِ وَاِسْتِنْباط مَعانِيها ...    None      None   \n",
       "2  تُثِير فِيها الاسود، وَهُوَ ما يَتَعارَض مَعَ ...    None      None   \n",
       "3  الجماعي، وَكادَت تَصِل إِلَى المَرْحَلَةِ الاِ...    None      None   \n",
       "4  مَعَهُ مَنْدِيلا فِيهِ جردقتان وَقَطَعَ لَحْم ...    None      None   \n",
       "\n",
       "    status  \n",
       "0  success  \n",
       "1  success  \n",
       "2  success  \n",
       "3  success  \n",
       "4  success  "
      ]
     },
     "execution_count": 5,
     "metadata": {},
     "output_type": "execute_result"
    }
   ],
   "source": [
    "df['easyocr'] = df['easyocr'].apply(lambda x: extract_text(x))\n",
    "df['tesseract'] = df['tesseract'].apply(lambda x: extract_text(x))\n",
    "df.head()"
   ]
  },
  {
   "cell_type": "code",
   "execution_count": 6,
   "metadata": {},
   "outputs": [],
   "source": [
    "hindawi = df[df[\"dataset\"]==dataset_name].head()"
   ]
  },
  {
   "cell_type": "code",
   "execution_count": 7,
   "metadata": {},
   "outputs": [
    {
     "data": {
      "text/plain": [
       "dataset         0\n",
       "image           0\n",
       "ground_truth    0\n",
       "easyocr         5\n",
       "tesseract       5\n",
       "status          0\n",
       "dtype: int64"
      ]
     },
     "execution_count": 7,
     "metadata": {},
     "output_type": "execute_result"
    }
   ],
   "source": [
    "hindawi.isna().sum()"
   ]
  },
  {
   "cell_type": "code",
   "execution_count": 8,
   "metadata": {},
   "outputs": [],
   "source": [
    "import ast\n"
   ]
  },
  {
   "cell_type": "code",
   "execution_count": 9,
   "metadata": {},
   "outputs": [
    {
     "data": {
      "text/plain": [
       "['ahmedheakl/arocrbench_synthesizear',\n",
       " 'ahmedheakl/arocrbench_patsocr',\n",
       " 'ahmedheakl/arocrbench_arabicocr',\n",
       " 'ahmedheakl/arocrbench_hindawi']"
      ]
     },
     "execution_count": 9,
     "metadata": {},
     "output_type": "execute_result"
    }
   ],
   "source": [
    "names = list(df.dataset.unique())\n",
    "names"
   ]
  },
  {
   "cell_type": "code",
   "execution_count": 10,
   "metadata": {},
   "outputs": [],
   "source": [
    "def split_df(df,dataset_name,new_ground_truth,new_pred,ground_truth,model_output):\n",
    "    data_frame = df.copy()\n",
    "\n",
    "    data_frame = data_frame[data_frame['dataset'] == dataset_name]\n",
    "    \n",
    "    data_frame = data_frame.rename(columns={ground_truth:new_ground_truth,model_output:new_pred})\n",
    "    if data_frame[new_ground_truth].isna().sum()>0:\n",
    "        data_frame[new_ground_truth] = data_frame[new_ground_truth].fillna(\"_\")\n",
    "    if data_frame[new_pred].isna().sum()>0:\n",
    "        data_frame[new_pred] = data_frame[new_pred].fillna(\"_\")\n",
    "    \n",
    "    data_frame = data_frame[[new_ground_truth,new_pred]]\n",
    "    return data_frame "
   ]
  },
  {
   "cell_type": "code",
   "execution_count": 11,
   "metadata": {},
   "outputs": [
    {
     "ename": "KeyError",
     "evalue": "'prediction'",
     "output_type": "error",
     "traceback": [
      "\u001b[0;31m---------------------------------------------------------------------------\u001b[0m",
      "\u001b[0;31mKeyError\u001b[0m                                  Traceback (most recent call last)",
      "File \u001b[0;32m~/miniconda3/envs/nlp/lib/python3.10/site-packages/pandas/core/indexes/base.py:3805\u001b[0m, in \u001b[0;36mIndex.get_loc\u001b[0;34m(self, key)\u001b[0m\n\u001b[1;32m   3804\u001b[0m \u001b[38;5;28;01mtry\u001b[39;00m:\n\u001b[0;32m-> 3805\u001b[0m     \u001b[38;5;28;01mreturn\u001b[39;00m \u001b[38;5;28;43mself\u001b[39;49m\u001b[38;5;241;43m.\u001b[39;49m\u001b[43m_engine\u001b[49m\u001b[38;5;241;43m.\u001b[39;49m\u001b[43mget_loc\u001b[49m\u001b[43m(\u001b[49m\u001b[43mcasted_key\u001b[49m\u001b[43m)\u001b[49m\n\u001b[1;32m   3806\u001b[0m \u001b[38;5;28;01mexcept\u001b[39;00m \u001b[38;5;167;01mKeyError\u001b[39;00m \u001b[38;5;28;01mas\u001b[39;00m err:\n",
      "File \u001b[0;32mindex.pyx:167\u001b[0m, in \u001b[0;36mpandas._libs.index.IndexEngine.get_loc\u001b[0;34m()\u001b[0m\n",
      "File \u001b[0;32mindex.pyx:196\u001b[0m, in \u001b[0;36mpandas._libs.index.IndexEngine.get_loc\u001b[0;34m()\u001b[0m\n",
      "File \u001b[0;32mpandas/_libs/hashtable_class_helper.pxi:7081\u001b[0m, in \u001b[0;36mpandas._libs.hashtable.PyObjectHashTable.get_item\u001b[0;34m()\u001b[0m\n",
      "File \u001b[0;32mpandas/_libs/hashtable_class_helper.pxi:7089\u001b[0m, in \u001b[0;36mpandas._libs.hashtable.PyObjectHashTable.get_item\u001b[0;34m()\u001b[0m\n",
      "\u001b[0;31mKeyError\u001b[0m: 'prediction'",
      "\nThe above exception was the direct cause of the following exception:\n",
      "\u001b[0;31mKeyError\u001b[0m                                  Traceback (most recent call last)",
      "Cell \u001b[0;32mIn[11], line 1\u001b[0m\n\u001b[0;32m----> 1\u001b[0m ans \u001b[38;5;241m=\u001b[39m \u001b[43msplit_df\u001b[49m\u001b[43m(\u001b[49m\u001b[43mdf\u001b[49m\u001b[43m,\u001b[49m\u001b[43mdataset_name\u001b[49m\u001b[43m,\u001b[49m\u001b[43mnew_ground_truth\u001b[49m\u001b[43m,\u001b[49m\u001b[43mnew_pred\u001b[49m\u001b[43m,\u001b[49m\u001b[43mground_truth\u001b[49m\u001b[43m,\u001b[49m\u001b[43mmodel_output\u001b[49m\u001b[43m)\u001b[49m\n\u001b[1;32m      2\u001b[0m \u001b[38;5;66;03m# ans.head()\u001b[39;00m\n",
      "Cell \u001b[0;32mIn[10], line 9\u001b[0m, in \u001b[0;36msplit_df\u001b[0;34m(df, dataset_name, new_ground_truth, new_pred, ground_truth, model_output)\u001b[0m\n\u001b[1;32m      7\u001b[0m \u001b[38;5;28;01mif\u001b[39;00m data_frame[new_ground_truth]\u001b[38;5;241m.\u001b[39misna()\u001b[38;5;241m.\u001b[39msum()\u001b[38;5;241m>\u001b[39m\u001b[38;5;241m0\u001b[39m:\n\u001b[1;32m      8\u001b[0m     data_frame[new_ground_truth] \u001b[38;5;241m=\u001b[39m data_frame[new_ground_truth]\u001b[38;5;241m.\u001b[39mfillna(\u001b[38;5;124m\"\u001b[39m\u001b[38;5;124m_\u001b[39m\u001b[38;5;124m\"\u001b[39m)\n\u001b[0;32m----> 9\u001b[0m \u001b[38;5;28;01mif\u001b[39;00m \u001b[43mdata_frame\u001b[49m\u001b[43m[\u001b[49m\u001b[43mnew_pred\u001b[49m\u001b[43m]\u001b[49m\u001b[38;5;241m.\u001b[39misna()\u001b[38;5;241m.\u001b[39msum()\u001b[38;5;241m>\u001b[39m\u001b[38;5;241m0\u001b[39m:\n\u001b[1;32m     10\u001b[0m     data_frame[new_pred] \u001b[38;5;241m=\u001b[39m data_frame[new_pred]\u001b[38;5;241m.\u001b[39mfillna(\u001b[38;5;124m\"\u001b[39m\u001b[38;5;124m_\u001b[39m\u001b[38;5;124m\"\u001b[39m)\n\u001b[1;32m     12\u001b[0m data_frame \u001b[38;5;241m=\u001b[39m data_frame[[new_ground_truth,new_pred]]\n",
      "File \u001b[0;32m~/miniconda3/envs/nlp/lib/python3.10/site-packages/pandas/core/frame.py:4102\u001b[0m, in \u001b[0;36mDataFrame.__getitem__\u001b[0;34m(self, key)\u001b[0m\n\u001b[1;32m   4100\u001b[0m \u001b[38;5;28;01mif\u001b[39;00m \u001b[38;5;28mself\u001b[39m\u001b[38;5;241m.\u001b[39mcolumns\u001b[38;5;241m.\u001b[39mnlevels \u001b[38;5;241m>\u001b[39m \u001b[38;5;241m1\u001b[39m:\n\u001b[1;32m   4101\u001b[0m     \u001b[38;5;28;01mreturn\u001b[39;00m \u001b[38;5;28mself\u001b[39m\u001b[38;5;241m.\u001b[39m_getitem_multilevel(key)\n\u001b[0;32m-> 4102\u001b[0m indexer \u001b[38;5;241m=\u001b[39m \u001b[38;5;28;43mself\u001b[39;49m\u001b[38;5;241;43m.\u001b[39;49m\u001b[43mcolumns\u001b[49m\u001b[38;5;241;43m.\u001b[39;49m\u001b[43mget_loc\u001b[49m\u001b[43m(\u001b[49m\u001b[43mkey\u001b[49m\u001b[43m)\u001b[49m\n\u001b[1;32m   4103\u001b[0m \u001b[38;5;28;01mif\u001b[39;00m is_integer(indexer):\n\u001b[1;32m   4104\u001b[0m     indexer \u001b[38;5;241m=\u001b[39m [indexer]\n",
      "File \u001b[0;32m~/miniconda3/envs/nlp/lib/python3.10/site-packages/pandas/core/indexes/base.py:3812\u001b[0m, in \u001b[0;36mIndex.get_loc\u001b[0;34m(self, key)\u001b[0m\n\u001b[1;32m   3807\u001b[0m     \u001b[38;5;28;01mif\u001b[39;00m \u001b[38;5;28misinstance\u001b[39m(casted_key, \u001b[38;5;28mslice\u001b[39m) \u001b[38;5;129;01mor\u001b[39;00m (\n\u001b[1;32m   3808\u001b[0m         \u001b[38;5;28misinstance\u001b[39m(casted_key, abc\u001b[38;5;241m.\u001b[39mIterable)\n\u001b[1;32m   3809\u001b[0m         \u001b[38;5;129;01mand\u001b[39;00m \u001b[38;5;28many\u001b[39m(\u001b[38;5;28misinstance\u001b[39m(x, \u001b[38;5;28mslice\u001b[39m) \u001b[38;5;28;01mfor\u001b[39;00m x \u001b[38;5;129;01min\u001b[39;00m casted_key)\n\u001b[1;32m   3810\u001b[0m     ):\n\u001b[1;32m   3811\u001b[0m         \u001b[38;5;28;01mraise\u001b[39;00m InvalidIndexError(key)\n\u001b[0;32m-> 3812\u001b[0m     \u001b[38;5;28;01mraise\u001b[39;00m \u001b[38;5;167;01mKeyError\u001b[39;00m(key) \u001b[38;5;28;01mfrom\u001b[39;00m\u001b[38;5;250m \u001b[39m\u001b[38;5;21;01merr\u001b[39;00m\n\u001b[1;32m   3813\u001b[0m \u001b[38;5;28;01mexcept\u001b[39;00m \u001b[38;5;167;01mTypeError\u001b[39;00m:\n\u001b[1;32m   3814\u001b[0m     \u001b[38;5;66;03m# If we have a listlike key, _check_indexing_error will raise\u001b[39;00m\n\u001b[1;32m   3815\u001b[0m     \u001b[38;5;66;03m#  InvalidIndexError. Otherwise we fall through and re-raise\u001b[39;00m\n\u001b[1;32m   3816\u001b[0m     \u001b[38;5;66;03m#  the TypeError.\u001b[39;00m\n\u001b[1;32m   3817\u001b[0m     \u001b[38;5;28mself\u001b[39m\u001b[38;5;241m.\u001b[39m_check_indexing_error(key)\n",
      "\u001b[0;31mKeyError\u001b[0m: 'prediction'"
     ]
    }
   ],
   "source": [
    "ans = split_df(df,dataset_name,new_ground_truth,new_pred,ground_truth,model_output)\n",
    "# ans.head()"
   ]
  },
  {
   "cell_type": "code",
   "execution_count": null,
   "metadata": {},
   "outputs": [
    {
     "name": "stdout",
     "output_type": "stream",
     "text": [
      "arocrbench_synthesizear_easyocr.csv saved\n",
      "arocrbench_patsocr_easyocr.csv saved\n",
      "arocrbench_arabicocr_easyocr.csv saved\n",
      "arocrbench_hindawi_easyocr.csv saved\n"
     ]
    }
   ],
   "source": [
    "for name in names:\n",
    "    ans = split_df(df,name,new_ground_truth,new_pred,ground_truth,model_output)\n",
    "    name = name.split(\"/\")[1]\n",
    "    \n",
    "    ans.to_csv(f\"{name + '_' +  model_output}.csv\")\n",
    "    print(f\"{name + '_'+ model_output  }.csv saved\")"
   ]
  },
  {
   "cell_type": "markdown",
   "metadata": {},
   "source": [
    "1. make sure there is no NanValues \n",
    "2. solve the malformed file reading "
   ]
  },
  {
   "cell_type": "code",
   "execution_count": null,
   "metadata": {},
   "outputs": [],
   "source": [
    "ouput = [\n",
    "    \"arocrbench_synthesizear_easyocr.csv\" ,\n",
    "\"arocrbench_patsocr_easyocr.csv\" ,\n",
    "\"arocrbench_arabicocr_easyocr.csv\" ,\n",
    "\"arocrbench_hindawi_easyocr.csv\" ,\n",
    "]"
   ]
  },
  {
   "cell_type": "code",
   "execution_count": null,
   "metadata": {},
   "outputs": [],
   "source": [
    "# ouput = [\n",
    "#     \"arocrbench_synthesizear_tesseract.csv\" ,\n",
    "# \"arocrbench_patsocr_tesseract.csv\" ,\n",
    "# \"arocrbench_arabicocr_tesseract.csv\" ,\n",
    "# # \"arocrbench_hindawi_tesseract.csv\" ,\n",
    "# ]"
   ]
  },
  {
   "cell_type": "code",
   "execution_count": null,
   "metadata": {},
   "outputs": [],
   "source": [
    "# ouput = [\n",
    "#     \"arocrbench_synthesizear_ain.csv\" ,\n",
    "# \"arocrbench_patsocr_ain.csv\" ,\n",
    "# \"arocrbench_arabicocr_ain.csv\" ,\n",
    "# \"arocrbench_hindawi_ain.csv\" ,\n",
    "\n",
    "# ]"
   ]
  },
  {
   "cell_type": "code",
   "execution_count": null,
   "metadata": {},
   "outputs": [],
   "source": [
    "# output = [\n",
    "#     \"arocrbench_synthesizear_qari.csv\" ,\n",
    "# \"arocrbench_patsocr_qari.csv\" ,\n",
    "# \"arocrbench_arabicocr_qari.csv\" ,\n",
    "# \"arocrbench_hindawi_qari.csv\" ,\n",
    "# ]"
   ]
  },
  {
   "cell_type": "code",
   "execution_count": null,
   "metadata": {},
   "outputs": [
    {
     "name": "stdout",
     "output_type": "stream",
     "text": [
      "arocrbench_synthesizear_easyocr.csv\n",
      "\n",
      "\n",
      "Unnamed: 0    0\n",
      "text          0\n",
      "prediction    0\n",
      "dtype: int64\n",
      "arocrbench_patsocr_easyocr.csv\n",
      "\n",
      "\n",
      "Unnamed: 0    0\n",
      "text          0\n",
      "prediction    0\n",
      "dtype: int64\n",
      "arocrbench_arabicocr_easyocr.csv\n",
      "\n",
      "\n",
      "Unnamed: 0    0\n",
      "text          0\n",
      "prediction    0\n",
      "dtype: int64\n",
      "arocrbench_hindawi_easyocr.csv\n",
      "\n",
      "\n",
      "Unnamed: 0    0\n",
      "text          0\n",
      "prediction    0\n",
      "dtype: int64\n"
     ]
    }
   ],
   "source": [
    "for name in ouput:\n",
    "    ans = pd.read_csv(name,lineterminator='\\n')\n",
    "    print(name)\n",
    "    # print(ans.head())\n",
    "    print(\"\\n\")\n",
    "    print(ans.isna().sum())"
   ]
  },
  {
   "cell_type": "code",
   "execution_count": null,
   "metadata": {},
   "outputs": [],
   "source": []
  }
 ],
 "metadata": {
  "kernelspec": {
   "display_name": "nlp",
   "language": "python",
   "name": "python3"
  },
  "language_info": {
   "codemirror_mode": {
    "name": "ipython",
    "version": 3
   },
   "file_extension": ".py",
   "mimetype": "text/x-python",
   "name": "python",
   "nbconvert_exporter": "python",
   "pygments_lexer": "ipython3",
   "version": "3.10.16"
  }
 },
 "nbformat": 4,
 "nbformat_minor": 2
}
