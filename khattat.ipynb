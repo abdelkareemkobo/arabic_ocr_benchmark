{
 "cells": [
  {
   "cell_type": "code",
   "execution_count": null,
   "metadata": {},
   "outputs": [],
   "source": [
    "import os\n",
    "from datasets import load_dataset\n",
    "from PIL import Image\n",
    "import pandas as pd\n",
    "from easyocr import Reader\n",
    "from transformers import TrOCRProcessor, VisionEncoderDecoderModel\n",
    "import pytesseract\n",
    "from paddleocr import PaddleOCR\n",
    "from rapidocr_onnxruntime import RapidOCR\n",
    "from surya.detection import DetectionPredictor\n",
    "from surya.recognition import RecognitionPredictor"
   ]
  },
  {
   "cell_type": "code",
   "execution_count": null,
   "metadata": {},
   "outputs": [],
   "source": [
    "pd.set_option('display.max_columns', None)  # Show all columns\n",
    "pd.set_option('display.max_rows', None)     # Show all rows\n",
    "pd.set_option('display.max_colwidth', None) # Show full content of each column (no truncation)\n",
    "pd.set_option('display.width', None)"
   ]
  },
  {
   "cell_type": "code",
   "execution_count": null,
   "metadata": {},
   "outputs": [],
   "source": [
    "dataset = load_dataset(\"ahmedheakl/arocrbench_khatt\",split=\"train\")\n"
   ]
  },
  {
   "cell_type": "code",
   "execution_count": null,
   "metadata": {},
   "outputs": [],
   "source": [
    "results = []\n",
    "for sample in dataset:\n",
    "    image = sample[\"image\"]  # Already a PIL Image object\n",
    "    if image.mode != \"RGB\":\n",
    "        image = image.convert(\"RGB\")\n",
    "    ground_truth = sample[\"text\"]\n",
    "    results.append({\n",
    "        \"image\": image,\n",
    "        \"ground_truth\": ground_truth,\n",
    "        \"tesseract\": None,\n",
    "        \"easyocr\": None,\n",
    "        \"trocr\": None,\n",
    "        \"paddleocr\": None,\n",
    "        \"rapidocr\": None,\n",
    "        \"suryaocr\": None\n",
    "    })\n",
    "print(f\"Initialized results with {len(results)} samples.\")"
   ]
  },
  {
   "cell_type": "markdown",
   "metadata": {},
   "source": [
    "### Tesseract Processing"
   ]
  },
  {
   "cell_type": "code",
   "execution_count": null,
   "metadata": {},
   "outputs": [],
   "source": [
    "for i, sample in enumerate(results):\n",
    "    image = sample[\"image\"]\n",
    "    tesseract_text = pytesseract.image_to_string(image,lang='ara')\n",
    "    results[i]['tesseract'] = tesseract_text\n",
    "print(\"Tesseract Processing completeed\")"
   ]
  },
  {
   "cell_type": "markdown",
   "metadata": {},
   "source": [
    "## EasyOCR"
   ]
  },
  {
   "cell_type": "code",
   "execution_count": null,
   "metadata": {},
   "outputs": [],
   "source": [
    "easyocr_reader = Reader(['ar'], gpu=True)\n",
    "for i, sample in enumerate(results):\n",
    "    image = sample[\"image\"]\n",
    "    easyocr_result = easyocr_reader.readtext(image, detail=0)\n",
    "    easyocr_text = \" \".join(easyocr_result)\n",
    "    results[i][\"easyocr\"] = easyocr_text\n",
    "print(\"EasyOCR processing completed.\")"
   ]
  },
  {
   "cell_type": "markdown",
   "metadata": {},
   "source": [
    "## Docling OCR"
   ]
  },
  {
   "cell_type": "code",
   "execution_count": null,
   "metadata": {},
   "outputs": [],
   "source": []
  },
  {
   "cell_type": "code",
   "execution_count": 24,
   "metadata": {},
   "outputs": [
    {
     "data": {
      "text/html": [
       "<div>\n",
       "<style scoped>\n",
       "    .dataframe tbody tr th:only-of-type {\n",
       "        vertical-align: middle;\n",
       "    }\n",
       "\n",
       "    .dataframe tbody tr th {\n",
       "        vertical-align: top;\n",
       "    }\n",
       "\n",
       "    .dataframe thead th {\n",
       "        text-align: right;\n",
       "    }\n",
       "</style>\n",
       "<table border=\"1\" class=\"dataframe\">\n",
       "  <thead>\n",
       "    <tr style=\"text-align: right;\">\n",
       "      <th></th>\n",
       "      <th>image</th>\n",
       "      <th>ground_truth</th>\n",
       "      <th>tesseract</th>\n",
       "      <th>easyocr</th>\n",
       "      <th>trocr</th>\n",
       "      <th>paddleocr</th>\n",
       "      <th>rapidocr</th>\n",
       "      <th>suryaocr</th>\n",
       "    </tr>\n",
       "  </thead>\n",
       "  <tbody>\n",
       "    <tr>\n",
       "      <th>0</th>\n",
       "      <td>&lt;PIL.JpegImagePlugin.JpegImageFile image mode=RGB size=2142x141 at 0x7FB164997D90&gt;</td>\n",
       "      <td>وصفاً مجملاً لحالة المغرب خلال سنة 2005، مثيراً ، في سياق ذلك ، التساؤلات الكبرى</td>\n",
       "      <td>و اث\\nحلم خالد\\nصف للج نع 1\\nٍ حال ل ‎٠‏\\n‏2ه م\\n06 »م صرمر ا ء ْ\\n- ضيبا ماد لأى مع\\nالمسشساز ,لي\\n0 اح\\n</td>\n",
       "      <td>حالا مح٥ً لحالدالمح صف سراء ذ سب مه دلل ا ,لسادلان للورا ها )4~5ه2</td>\n",
       "      <td>None</td>\n",
       "      <td>None</td>\n",
       "      <td>CrD 0</td>\n",
       "      <td></td>\n",
       "    </tr>\n",
       "    <tr>\n",
       "      <th>1</th>\n",
       "      <td>&lt;PIL.JpegImagePlugin.JpegImageFile image mode=RGB size=2159x228 at 0x7FB16497EB30&gt;</td>\n",
       "      <td>وهلال خازن عفيف للحج .  بدأت قوافل الحجيج حاج إثر آخر يلبي</td>\n",
       "      <td>3 ظارن, عض لمع “اأات قاططع لجيج عام رك نم مل\\n</td>\n",
       "      <td>عصعا معبل ل _ جا ت قواقل عا 2 إثر ~ خ ما رره للهج المجيج</td>\n",
       "      <td>None</td>\n",
       "      <td>None</td>\n",
       "      <td>2 2</td>\n",
       "      <td></td>\n",
       "    </tr>\n",
       "    <tr>\n",
       "      <th>2</th>\n",
       "      <td>&lt;PIL.JpegImagePlugin.JpegImageFile image mode=RGB size=1508x404 at 0x7FB16497EA70&gt;</td>\n",
       "      <td>النص: مشمش ، دراق ، غيظ ، ناء ،  بث ، نسر .</td>\n",
       "      <td>الى : محش ؛ د راك حيظ ؛ دنأد؛ جمبثت اجر\\n</td>\n",
       "      <td>لبث دراد , خيظ ' نا ء مهمم الذم نسلن</td>\n",
       "      <td>None</td>\n",
       "      <td>None</td>\n",
       "      <td>-31</td>\n",
       "      <td></td>\n",
       "    </tr>\n",
       "    <tr>\n",
       "      <th>3</th>\n",
       "      <td>&lt;PIL.JpegImagePlugin.JpegImageFile image mode=RGB size=1236x103 at 0x7FB16497E9E0&gt;</td>\n",
       "      <td>و هي التي جعلته كريما على فقره .</td>\n",
       "      <td>و هى انوا كلت دريما كل موه .\\n</td>\n",
       "      <td>لريما ىلى ححلد الد مشظو ه</td>\n",
       "      <td>None</td>\n",
       "      <td>None</td>\n",
       "      <td>它</td>\n",
       "      <td></td>\n",
       "    </tr>\n",
       "    <tr>\n",
       "      <th>4</th>\n",
       "      <td>&lt;PIL.JpegImagePlugin.JpegImageFile image mode=RGB size=1873x110 at 0x7FB16497E950&gt;</td>\n",
       "      <td>مثل أنقض بغـلس له الضابط لزمتك. سألت راجح هل أبلغ أصحابنا</td>\n",
       "      <td>مثا دمض نغلس هف الطابط لزمتك ساهه راجع هل أبلؤ أصمجاين!ا\\n</td>\n",
       "      <td>امجا سالت راجح هل لل الطا  ط مث ' نقحى ابل  بنا لرمرك نغلل</td>\n",
       "      <td>None</td>\n",
       "      <td>None</td>\n",
       "      <td>CUD 3</td>\n",
       "      <td></td>\n",
       "    </tr>\n",
       "  </tbody>\n",
       "</table>\n",
       "</div>"
      ],
      "text/plain": [
       "                                                                                image  \\\n",
       "0  <PIL.JpegImagePlugin.JpegImageFile image mode=RGB size=2142x141 at 0x7FB164997D90>   \n",
       "1  <PIL.JpegImagePlugin.JpegImageFile image mode=RGB size=2159x228 at 0x7FB16497EB30>   \n",
       "2  <PIL.JpegImagePlugin.JpegImageFile image mode=RGB size=1508x404 at 0x7FB16497EA70>   \n",
       "3  <PIL.JpegImagePlugin.JpegImageFile image mode=RGB size=1236x103 at 0x7FB16497E9E0>   \n",
       "4  <PIL.JpegImagePlugin.JpegImageFile image mode=RGB size=1873x110 at 0x7FB16497E950>   \n",
       "\n",
       "                                                                       ground_truth  \\\n",
       "0  وصفاً مجملاً لحالة المغرب خلال سنة 2005، مثيراً ، في سياق ذلك ، التساؤلات الكبرى   \n",
       "1                        وهلال خازن عفيف للحج .  بدأت قوافل الحجيج حاج إثر آخر يلبي   \n",
       "2                                       النص: مشمش ، دراق ، غيظ ، ناء ،  بث ، نسر .   \n",
       "3                                                  و هي التي جعلته كريما على فقره .   \n",
       "4                         مثل أنقض بغـلس له الضابط لزمتك. سألت راجح هل أبلغ أصحابنا   \n",
       "\n",
       "                                                                                                     tesseract  \\\n",
       "0  و اث\\nحلم خالد\\nصف للج نع 1\\nٍ حال ل ‎٠‏\\n‏2ه م\\n06 »م صرمر ا ء ْ\\n- ضيبا ماد لأى مع\\nالمسشساز ,لي\\n0 اح\\n\n",
       "   \n",
       "1                                                              3 ظارن, عض لمع “اأات قاططع لجيج عام رك نم مل\\n\n",
       "   \n",
       "2                                                                   الى : محش ؛ د راك حيظ ؛ دنأد؛ جمبثت اجر\\n\n",
       "   \n",
       "3                                                                              و هى انوا كلت دريما كل موه .\\n\n",
       "   \n",
       "4                                                  مثا دمض نغلس هف الطابط لزمتك ساهه راجع هل أبلؤ أصمجاين!ا\\n\n",
       "   \n",
       "\n",
       "                                                              easyocr trocr  \\\n",
       "0  حالا مح٥ً لحالدالمح صف سراء ذ سب مه دلل ا ,لسادلان للورا ها )4~5ه2  None   \n",
       "1            عصعا معبل ل _ جا ت قواقل عا 2 إثر ~ خ ما رره للهج المجيج  None   \n",
       "2                                لبث دراد , خيظ ' نا ء مهمم الذم نسلن  None   \n",
       "3                                           لريما ىلى ححلد الد مشظو ه  None   \n",
       "4          امجا سالت راجح هل لل الطا  ط مث ' نقحى ابل  بنا لرمرك نغلل  None   \n",
       "\n",
       "  paddleocr rapidocr suryaocr  \n",
       "0      None    CrD 0           \n",
       "1      None      2 2           \n",
       "2      None      -31           \n",
       "3      None        它           \n",
       "4      None    CUD 3           "
      ]
     },
     "execution_count": 24,
     "metadata": {},
     "output_type": "execute_result"
    }
   ],
   "source": [
    "df = pd.DataFrame(results)\n",
    "df.head()\n"
   ]
  },
  {
   "cell_type": "code",
   "execution_count": null,
   "metadata": {},
   "outputs": [],
   "source": [
    "from jiwer import wer, cer \n",
    "\n",
    "# for model in [\"tesseract\", \"easyocr\", \"trocr\"]:\n",
    "for model in [\"tesseract\",\"easyocr\"]:\n",
    "    wer_score = wer(df[\"ground_truth\"].tolist(), df[model].tolist())\n",
    "    cer_score = cer(df[\"ground_truth\"].tolist(), df[model].tolist())\n",
    "    print(f\"{model} - WER: {wer_score:.2f}, CER: {cer_score:.2f}\")"
   ]
  },
  {
   "cell_type": "code",
   "execution_count": null,
   "metadata": {},
   "outputs": [],
   "source": [
    "df.to_csv(\"khattat_result\")"
   ]
  },
  {
   "cell_type": "code",
   "execution_count": null,
   "metadata": {},
   "outputs": [],
   "source": []
  },
  {
   "cell_type": "code",
   "execution_count": null,
   "metadata": {},
   "outputs": [],
   "source": []
  }
 ],
 "metadata": {
  "kernelspec": {
   "display_name": "nlp",
   "language": "python",
   "name": "python3"
  },
  "language_info": {
   "codemirror_mode": {
    "name": "ipython",
    "version": 3
   },
   "file_extension": ".py",
   "mimetype": "text/x-python",
   "name": "python",
   "nbconvert_exporter": "python",
   "pygments_lexer": "ipython3",
   "version": "3.10.16"
  }
 },
 "nbformat": 4,
 "nbformat_minor": 2
}
