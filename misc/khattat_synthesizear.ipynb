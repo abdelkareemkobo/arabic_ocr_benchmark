{
 "cells": [
  {
   "cell_type": "code",
   "execution_count": 7,
   "metadata": {},
   "outputs": [],
   "source": [
    "import os\n",
    "from datasets import load_dataset\n",
    "from PIL import Image\n",
    "import pandas as pd\n",
    "from easyocr import Reader\n",
    "from transformers import TrOCRProcessor, VisionEncoderDecoderModel\n",
    "import pytesseract\n"
   ]
  },
  {
   "cell_type": "code",
   "execution_count": 8,
   "metadata": {},
   "outputs": [],
   "source": [
    "pd.set_option('display.max_columns', None)  # Show all columns\n",
    "pd.set_option('display.max_rows', None)     # Show all rows\n",
    "pd.set_option('display.max_colwidth', None) # Show full content of each column (no truncation)\n",
    "pd.set_option('display.width', None)"
   ]
  },
  {
   "cell_type": "code",
   "execution_count": 9,
   "metadata": {},
   "outputs": [],
   "source": [
    "dataset = load_dataset(\"ahmedheakl/arocrbench_synthesizear\",split=\"train\")\n"
   ]
  },
  {
   "cell_type": "code",
   "execution_count": 10,
   "metadata": {},
   "outputs": [
    {
     "name": "stdout",
     "output_type": "stream",
     "text": [
      "Initialized results with 500 samples.\n"
     ]
    }
   ],
   "source": [
    "results = []\n",
    "for sample in dataset:\n",
    "    image = sample[\"image\"]  # Already a PIL Image object\n",
    "    if image.mode != \"RGB\":\n",
    "        image = image.convert(\"RGB\")\n",
    "    ground_truth = sample[\"text\"]\n",
    "    results.append({\n",
    "        \"image\": image,\n",
    "        \"ground_truth\": ground_truth,\n",
    "        \"tesseract\": None,\n",
    "        \"easyocr\": None,\n",
    "    })\n",
    "print(f\"Initialized results with {len(results)} samples.\")"
   ]
  },
  {
   "cell_type": "markdown",
   "metadata": {},
   "source": [
    "### Tesseract Processing"
   ]
  },
  {
   "cell_type": "code",
   "execution_count": 11,
   "metadata": {},
   "outputs": [
    {
     "name": "stdout",
     "output_type": "stream",
     "text": [
      "Tesseract Processing completeed\n"
     ]
    }
   ],
   "source": [
    "for i, sample in enumerate(results):\n",
    "    image = sample[\"image\"]\n",
    "    tesseract_text = pytesseract.image_to_string(image,lang='ara')\n",
    "    results[i]['tesseract'] = tesseract_text\n",
    "print(\"Tesseract Processing completeed\")"
   ]
  },
  {
   "cell_type": "markdown",
   "metadata": {},
   "source": [
    "## EasyOCR"
   ]
  },
  {
   "cell_type": "code",
   "execution_count": 12,
   "metadata": {},
   "outputs": [
    {
     "name": "stdout",
     "output_type": "stream",
     "text": [
      "EasyOCR processing completed.\n"
     ]
    }
   ],
   "source": [
    "easyocr_reader = Reader(['ar'], gpu=True)\n",
    "for i, sample in enumerate(results):\n",
    "    image = sample[\"image\"]\n",
    "    easyocr_result = easyocr_reader.readtext(image, detail=0)\n",
    "    easyocr_text = \" \".join(easyocr_result)\n",
    "    results[i][\"easyocr\"] = easyocr_text\n",
    "print(\"EasyOCR processing completed.\")"
   ]
  },
  {
   "cell_type": "code",
   "execution_count": 17,
   "metadata": {},
   "outputs": [],
   "source": [
    "import re\n",
    "\n",
    "def remove_diacritics(text):\n",
    "    # Define Arabic diacritics using Unicode ranges\n",
    "    diacritics = [\n",
    "        '\\u0617', '\\u0618', '\\u0619', '\\u061A',  # Small high signs\n",
    "        '\\u064B', '\\u064C', '\\u064D', '\\u064E', '\\u064F', '\\u0650',  # Tanween and basic diacritics\n",
    "        '\\u0651', '\\u0652', '\\u0653', '\\u0654', '\\u0655', '\\u0656',  # Shadda, sukun, etc.\n",
    "        '\\u0657', '\\u0658', '\\u0659', '\\u065A', '\\u065B', '\\u065C', \n",
    "        '\\u065D', '\\u065E', '\\u065F', '\\u0670'   # Additional Arabic diacritics\n",
    "    ]\n",
    "    # Create a regex pattern to match any diacritic\n",
    "    pattern = '[' + ''.join(diacritics) + ']'\n",
    "    # Replace all diacritics with an empty string\n",
    "    return re.sub(pattern, '', text)"
   ]
  },
  {
   "cell_type": "code",
   "execution_count": 20,
   "metadata": {},
   "outputs": [
    {
     "data": {
      "text/html": [
       "<div>\n",
       "<style scoped>\n",
       "    .dataframe tbody tr th:only-of-type {\n",
       "        vertical-align: middle;\n",
       "    }\n",
       "\n",
       "    .dataframe tbody tr th {\n",
       "        vertical-align: top;\n",
       "    }\n",
       "\n",
       "    .dataframe thead th {\n",
       "        text-align: right;\n",
       "    }\n",
       "</style>\n",
       "<table border=\"1\" class=\"dataframe\">\n",
       "  <thead>\n",
       "    <tr style=\"text-align: right;\">\n",
       "      <th></th>\n",
       "      <th>image</th>\n",
       "      <th>ground_truth</th>\n",
       "      <th>tesseract</th>\n",
       "      <th>easyocr</th>\n",
       "    </tr>\n",
       "  </thead>\n",
       "  <tbody>\n",
       "    <tr>\n",
       "      <th>0</th>\n",
       "      <td>&lt;PIL.JpegImagePlugin.JpegImageFile image mode=RGB size=639x114 at 0x7BF63B8D3E10&gt;</td>\n",
       "      <td>وَإِذا ما سَأَلَتْنِي عَن مَعْنَى لَفَظَهُ \"عرب\" عِنْدَ</td>\n",
       "      <td>وَإِذا ما سَألْْيِي عَن مَعْنَى لَفَظَهُ \"عرب\" عِنْدَ\\n</td>\n",
       "      <td>لفظهً \" عرب \" عندً عن واذا ما سألتني معنى</td>\n",
       "    </tr>\n",
       "    <tr>\n",
       "      <th>1</th>\n",
       "      <td>&lt;PIL.JpegImagePlugin.JpegImageFile image mode=RGB size=1182x147 at 0x7BF638440450&gt;</td>\n",
       "      <td>أَمّا فَهُم النُصُوصِ وَاِسْتِنْباط مَعانِيها بِوَجْهٍ صَحِيحٌ دقيق،</td>\n",
       "      <td>أما فَهُم النْصْوصٍ واشتئباط قعانيها بوكو صَحيحٌ دقيق,\\n</td>\n",
       "      <td>_ النضوص واستنباط قعانيها بؤجه ضجيح دقيق . أما فهم</td>\n",
       "    </tr>\n",
       "    <tr>\n",
       "      <th>2</th>\n",
       "      <td>&lt;PIL.JpegImagePlugin.JpegImageFile image mode=RGB size=994x163 at 0x7BF638440F10&gt;</td>\n",
       "      <td>تُثِير فِيها الاسود، وَهُوَ ما يَتَعارَض مَعَ اِكْتِشافِ</td>\n",
       "      <td>تَثْير فيها الاسود. وَهَوٍ ما تَتَعارَض مق اكْتشافيٍ\\n</td>\n",
       "      <td>تثير فيها الاسود وهو ما يتعارض مع اكتشاف</td>\n",
       "    </tr>\n",
       "    <tr>\n",
       "      <th>3</th>\n",
       "      <td>&lt;PIL.JpegImagePlugin.JpegImageFile image mode=RGB size=1315x224 at 0x7BF638441910&gt;</td>\n",
       "      <td>الجماعي، وَكادَت تَصِل إِلَى المَرْحَلَةِ الاِشْتِراكِيَّة لِسَيْطَرَةِ أَكْبَرَ</td>\n",
       "      <td>لَى المَرْحَلَةِ الإشترايّة لسَيْطرة أَخُبرَ\\nالجماعي. وَكَادَت تصل إِلَى المَْحَلَةِ الاشترايّة لِسَيْط\\n</td>\n",
       "      <td>وكادت تصل إلى المزحلة الاشتاكيًة لسيط ة أفبر الجماعي ,</td>\n",
       "    </tr>\n",
       "    <tr>\n",
       "      <th>4</th>\n",
       "      <td>&lt;PIL.JpegImagePlugin.JpegImageFile image mode=RGB size=1224x129 at 0x7BF638441190&gt;</td>\n",
       "      <td>مَعَهُ مَنْدِيلا فِيهِ جردقتان وَقَطَعَ لَحْم سَكْباج مُبَرَّد</td>\n",
       "      <td>مَعهَ منديلا فيه جردقتان وَفَطعَ لخم سه باج مبرد\\n</td>\n",
       "      <td>معهً منديلا فيه جردقتان وقطع سحباج آخم مبرد</td>\n",
       "    </tr>\n",
       "  </tbody>\n",
       "</table>\n",
       "</div>"
      ],
      "text/plain": [
       "                                                                                image  \\\n",
       "0   <PIL.JpegImagePlugin.JpegImageFile image mode=RGB size=639x114 at 0x7BF63B8D3E10>   \n",
       "1  <PIL.JpegImagePlugin.JpegImageFile image mode=RGB size=1182x147 at 0x7BF638440450>   \n",
       "2   <PIL.JpegImagePlugin.JpegImageFile image mode=RGB size=994x163 at 0x7BF638440F10>   \n",
       "3  <PIL.JpegImagePlugin.JpegImageFile image mode=RGB size=1315x224 at 0x7BF638441910>   \n",
       "4  <PIL.JpegImagePlugin.JpegImageFile image mode=RGB size=1224x129 at 0x7BF638441190>   \n",
       "\n",
       "                                                                       ground_truth  \\\n",
       "0                           وَإِذا ما سَأَلَتْنِي عَن مَعْنَى لَفَظَهُ \"عرب\" عِنْدَ   \n",
       "1              أَمّا فَهُم النُصُوصِ وَاِسْتِنْباط مَعانِيها بِوَجْهٍ صَحِيحٌ دقيق،   \n",
       "2                          تُثِير فِيها الاسود، وَهُوَ ما يَتَعارَض مَعَ اِكْتِشافِ   \n",
       "3  الجماعي، وَكادَت تَصِل إِلَى المَرْحَلَةِ الاِشْتِراكِيَّة لِسَيْطَرَةِ أَكْبَرَ   \n",
       "4                    مَعَهُ مَنْدِيلا فِيهِ جردقتان وَقَطَعَ لَحْم سَكْباج مُبَرَّد   \n",
       "\n",
       "                                                                                                    tesseract  \\\n",
       "0                                                     وَإِذا ما سَألْْيِي عَن مَعْنَى لَفَظَهُ \"عرب\" عِنْدَ\\n   \n",
       "1                                                    أما فَهُم النْصْوصٍ واشتئباط قعانيها بوكو صَحيحٌ دقيق,\\n   \n",
       "2                                                      تَثْير فيها الاسود. وَهَوٍ ما تَتَعارَض مق اكْتشافيٍ\\n   \n",
       "3  لَى المَرْحَلَةِ الإشترايّة لسَيْطرة أَخُبرَ\\nالجماعي. وَكَادَت تصل إِلَى المَْحَلَةِ الاشترايّة لِسَيْط\\n   \n",
       "4                                                          مَعهَ منديلا فيه جردقتان وَفَطعَ لخم سه باج مبرد\\n   \n",
       "\n",
       "                                                  easyocr  \n",
       "0               لفظهً \" عرب \" عندً عن واذا ما سألتني معنى  \n",
       "1      _ النضوص واستنباط قعانيها بؤجه ضجيح دقيق . أما فهم  \n",
       "2                تثير فيها الاسود وهو ما يتعارض مع اكتشاف  \n",
       "3  وكادت تصل إلى المزحلة الاشتاكيًة لسيط ة أفبر الجماعي ,  \n",
       "4             معهً منديلا فيه جردقتان وقطع سحباج آخم مبرد  "
      ]
     },
     "execution_count": 20,
     "metadata": {},
     "output_type": "execute_result"
    }
   ],
   "source": [
    "df = pd.DataFrame(results)\n",
    "df.head()"
   ]
  },
  {
   "cell_type": "code",
   "execution_count": 24,
   "metadata": {},
   "outputs": [],
   "source": [
    "\n",
    "df['ground_truth_t'] = df[\"ground_truth\"].apply(remove_diacritics)\n",
    "df['tesseract_t'] = df[\"tesseract\"].apply(remove_diacritics)\n",
    "df['easyocr_t'] = df[\"easyocr\"].apply(remove_diacritics)"
   ]
  },
  {
   "cell_type": "code",
   "execution_count": 25,
   "metadata": {},
   "outputs": [
    {
     "data": {
      "text/html": [
       "<div>\n",
       "<style scoped>\n",
       "    .dataframe tbody tr th:only-of-type {\n",
       "        vertical-align: middle;\n",
       "    }\n",
       "\n",
       "    .dataframe tbody tr th {\n",
       "        vertical-align: top;\n",
       "    }\n",
       "\n",
       "    .dataframe thead th {\n",
       "        text-align: right;\n",
       "    }\n",
       "</style>\n",
       "<table border=\"1\" class=\"dataframe\">\n",
       "  <thead>\n",
       "    <tr style=\"text-align: right;\">\n",
       "      <th></th>\n",
       "      <th>image</th>\n",
       "      <th>ground_truth</th>\n",
       "      <th>tesseract</th>\n",
       "      <th>easyocr</th>\n",
       "      <th>ground_truth_t</th>\n",
       "      <th>tesseract_t</th>\n",
       "      <th>easyocr_t</th>\n",
       "    </tr>\n",
       "  </thead>\n",
       "  <tbody>\n",
       "    <tr>\n",
       "      <th>0</th>\n",
       "      <td>&lt;PIL.JpegImagePlugin.JpegImageFile image mode=RGB size=639x114 at 0x7BF63B8D3E10&gt;</td>\n",
       "      <td>وَإِذا ما سَأَلَتْنِي عَن مَعْنَى لَفَظَهُ \"عرب\" عِنْدَ</td>\n",
       "      <td>وَإِذا ما سَألْْيِي عَن مَعْنَى لَفَظَهُ \"عرب\" عِنْدَ\\n</td>\n",
       "      <td>لفظهً \" عرب \" عندً عن واذا ما سألتني معنى</td>\n",
       "      <td>وإذا ما سألتني عن معنى لفظه \"عرب\" عند</td>\n",
       "      <td>وإذا ما سأليي عن معنى لفظه \"عرب\" عند\\n</td>\n",
       "      <td>لفظه \" عرب \" عند عن واذا ما سألتني معنى</td>\n",
       "    </tr>\n",
       "    <tr>\n",
       "      <th>1</th>\n",
       "      <td>&lt;PIL.JpegImagePlugin.JpegImageFile image mode=RGB size=1182x147 at 0x7BF638440450&gt;</td>\n",
       "      <td>أَمّا فَهُم النُصُوصِ وَاِسْتِنْباط مَعانِيها بِوَجْهٍ صَحِيحٌ دقيق،</td>\n",
       "      <td>أما فَهُم النْصْوصٍ واشتئباط قعانيها بوكو صَحيحٌ دقيق,\\n</td>\n",
       "      <td>_ النضوص واستنباط قعانيها بؤجه ضجيح دقيق . أما فهم</td>\n",
       "      <td>أما فهم النصوص واستنباط معانيها بوجه صحيح دقيق،</td>\n",
       "      <td>أما فهم النصوص واشتئباط قعانيها بوكو صحيح دقيق,\\n</td>\n",
       "      <td>_ النضوص واستنباط قعانيها بؤجه ضجيح دقيق . أما فهم</td>\n",
       "    </tr>\n",
       "    <tr>\n",
       "      <th>2</th>\n",
       "      <td>&lt;PIL.JpegImagePlugin.JpegImageFile image mode=RGB size=994x163 at 0x7BF638440F10&gt;</td>\n",
       "      <td>تُثِير فِيها الاسود، وَهُوَ ما يَتَعارَض مَعَ اِكْتِشافِ</td>\n",
       "      <td>تَثْير فيها الاسود. وَهَوٍ ما تَتَعارَض مق اكْتشافيٍ\\n</td>\n",
       "      <td>تثير فيها الاسود وهو ما يتعارض مع اكتشاف</td>\n",
       "      <td>تثير فيها الاسود، وهو ما يتعارض مع اكتشاف</td>\n",
       "      <td>تثير فيها الاسود. وهو ما تتعارض مق اكتشافي\\n</td>\n",
       "      <td>تثير فيها الاسود وهو ما يتعارض مع اكتشاف</td>\n",
       "    </tr>\n",
       "    <tr>\n",
       "      <th>3</th>\n",
       "      <td>&lt;PIL.JpegImagePlugin.JpegImageFile image mode=RGB size=1315x224 at 0x7BF638441910&gt;</td>\n",
       "      <td>الجماعي، وَكادَت تَصِل إِلَى المَرْحَلَةِ الاِشْتِراكِيَّة لِسَيْطَرَةِ أَكْبَرَ</td>\n",
       "      <td>لَى المَرْحَلَةِ الإشترايّة لسَيْطرة أَخُبرَ\\nالجماعي. وَكَادَت تصل إِلَى المَْحَلَةِ الاشترايّة لِسَيْط\\n</td>\n",
       "      <td>وكادت تصل إلى المزحلة الاشتاكيًة لسيط ة أفبر الجماعي ,</td>\n",
       "      <td>الجماعي، وكادت تصل إلى المرحلة الاشتراكية لسيطرة أكبر</td>\n",
       "      <td>لى المرحلة الإشتراية لسيطرة أخبر\\nالجماعي. وكادت تصل إلى المحلة الاشتراية لسيط\\n</td>\n",
       "      <td>وكادت تصل إلى المزحلة الاشتاكية لسيط ة أفبر الجماعي ,</td>\n",
       "    </tr>\n",
       "    <tr>\n",
       "      <th>4</th>\n",
       "      <td>&lt;PIL.JpegImagePlugin.JpegImageFile image mode=RGB size=1224x129 at 0x7BF638441190&gt;</td>\n",
       "      <td>مَعَهُ مَنْدِيلا فِيهِ جردقتان وَقَطَعَ لَحْم سَكْباج مُبَرَّد</td>\n",
       "      <td>مَعهَ منديلا فيه جردقتان وَفَطعَ لخم سه باج مبرد\\n</td>\n",
       "      <td>معهً منديلا فيه جردقتان وقطع سحباج آخم مبرد</td>\n",
       "      <td>معه منديلا فيه جردقتان وقطع لحم سكباج مبرد</td>\n",
       "      <td>معه منديلا فيه جردقتان وفطع لخم سه باج مبرد\\n</td>\n",
       "      <td>معه منديلا فيه جردقتان وقطع سحباج آخم مبرد</td>\n",
       "    </tr>\n",
       "  </tbody>\n",
       "</table>\n",
       "</div>"
      ],
      "text/plain": [
       "                                                                                image  \\\n",
       "0   <PIL.JpegImagePlugin.JpegImageFile image mode=RGB size=639x114 at 0x7BF63B8D3E10>   \n",
       "1  <PIL.JpegImagePlugin.JpegImageFile image mode=RGB size=1182x147 at 0x7BF638440450>   \n",
       "2   <PIL.JpegImagePlugin.JpegImageFile image mode=RGB size=994x163 at 0x7BF638440F10>   \n",
       "3  <PIL.JpegImagePlugin.JpegImageFile image mode=RGB size=1315x224 at 0x7BF638441910>   \n",
       "4  <PIL.JpegImagePlugin.JpegImageFile image mode=RGB size=1224x129 at 0x7BF638441190>   \n",
       "\n",
       "                                                                       ground_truth  \\\n",
       "0                           وَإِذا ما سَأَلَتْنِي عَن مَعْنَى لَفَظَهُ \"عرب\" عِنْدَ   \n",
       "1              أَمّا فَهُم النُصُوصِ وَاِسْتِنْباط مَعانِيها بِوَجْهٍ صَحِيحٌ دقيق،   \n",
       "2                          تُثِير فِيها الاسود، وَهُوَ ما يَتَعارَض مَعَ اِكْتِشافِ   \n",
       "3  الجماعي، وَكادَت تَصِل إِلَى المَرْحَلَةِ الاِشْتِراكِيَّة لِسَيْطَرَةِ أَكْبَرَ   \n",
       "4                    مَعَهُ مَنْدِيلا فِيهِ جردقتان وَقَطَعَ لَحْم سَكْباج مُبَرَّد   \n",
       "\n",
       "                                                                                                    tesseract  \\\n",
       "0                                                     وَإِذا ما سَألْْيِي عَن مَعْنَى لَفَظَهُ \"عرب\" عِنْدَ\\n   \n",
       "1                                                    أما فَهُم النْصْوصٍ واشتئباط قعانيها بوكو صَحيحٌ دقيق,\\n   \n",
       "2                                                      تَثْير فيها الاسود. وَهَوٍ ما تَتَعارَض مق اكْتشافيٍ\\n   \n",
       "3  لَى المَرْحَلَةِ الإشترايّة لسَيْطرة أَخُبرَ\\nالجماعي. وَكَادَت تصل إِلَى المَْحَلَةِ الاشترايّة لِسَيْط\\n   \n",
       "4                                                          مَعهَ منديلا فيه جردقتان وَفَطعَ لخم سه باج مبرد\\n   \n",
       "\n",
       "                                                  easyocr  \\\n",
       "0               لفظهً \" عرب \" عندً عن واذا ما سألتني معنى   \n",
       "1      _ النضوص واستنباط قعانيها بؤجه ضجيح دقيق . أما فهم   \n",
       "2                تثير فيها الاسود وهو ما يتعارض مع اكتشاف   \n",
       "3  وكادت تصل إلى المزحلة الاشتاكيًة لسيط ة أفبر الجماعي ,   \n",
       "4             معهً منديلا فيه جردقتان وقطع سحباج آخم مبرد   \n",
       "\n",
       "                                          ground_truth_t  \\\n",
       "0                  وإذا ما سألتني عن معنى لفظه \"عرب\" عند   \n",
       "1        أما فهم النصوص واستنباط معانيها بوجه صحيح دقيق،   \n",
       "2              تثير فيها الاسود، وهو ما يتعارض مع اكتشاف   \n",
       "3  الجماعي، وكادت تصل إلى المرحلة الاشتراكية لسيطرة أكبر   \n",
       "4             معه منديلا فيه جردقتان وقطع لحم سكباج مبرد   \n",
       "\n",
       "                                                                        tesseract_t  \\\n",
       "0                                            وإذا ما سأليي عن معنى لفظه \"عرب\" عند\\n   \n",
       "1                                 أما فهم النصوص واشتئباط قعانيها بوكو صحيح دقيق,\\n   \n",
       "2                                      تثير فيها الاسود. وهو ما تتعارض مق اكتشافي\\n   \n",
       "3  لى المرحلة الإشتراية لسيطرة أخبر\\nالجماعي. وكادت تصل إلى المحلة الاشتراية لسيط\\n   \n",
       "4                                     معه منديلا فيه جردقتان وفطع لخم سه باج مبرد\\n   \n",
       "\n",
       "                                               easyocr_t  \n",
       "0                لفظه \" عرب \" عند عن واذا ما سألتني معنى  \n",
       "1     _ النضوص واستنباط قعانيها بؤجه ضجيح دقيق . أما فهم  \n",
       "2               تثير فيها الاسود وهو ما يتعارض مع اكتشاف  \n",
       "3  وكادت تصل إلى المزحلة الاشتاكية لسيط ة أفبر الجماعي ,  \n",
       "4             معه منديلا فيه جردقتان وقطع سحباج آخم مبرد  "
      ]
     },
     "execution_count": 25,
     "metadata": {},
     "output_type": "execute_result"
    }
   ],
   "source": [
    "df.head()\n"
   ]
  },
  {
   "cell_type": "code",
   "execution_count": 23,
   "metadata": {},
   "outputs": [
    {
     "name": "stdout",
     "output_type": "stream",
     "text": [
      "tesseract - WER: 1.02, CER: 0.43\n",
      "easyocr - WER: 1.06, CER: 0.59\n"
     ]
    }
   ],
   "source": [
    "from jiwer import wer, cer \n",
    "\n",
    "for model in [\"tesseract\",\"easyocr\"]:\n",
    "    wer_score = wer(df[\"ground_truth\"].tolist(), df[model].tolist())\n",
    "    cer_score = cer(df[\"ground_truth\"].tolist(), df[model].tolist())\n",
    "    print(f\"{model} - WER: {wer_score:.2f}, CER: {cer_score:.2f}\")"
   ]
  },
  {
   "cell_type": "code",
   "execution_count": 26,
   "metadata": {},
   "outputs": [
    {
     "name": "stdout",
     "output_type": "stream",
     "text": [
      "tesseract_t - WER: 0.72, CER: 0.33\n",
      "easyocr_t - WER: 0.76, CER: 0.46\n"
     ]
    }
   ],
   "source": [
    "from jiwer import wer, cer \n",
    "\n",
    "for model in [\"tesseract_t\",\"easyocr_t\"]:\n",
    "    wer_score = wer(df[\"ground_truth_t\"].tolist(), df[model].tolist())\n",
    "    cer_score = cer(df[\"ground_truth_t\"].tolist(), df[model].tolist())\n",
    "    print(f\"{model} - WER: {wer_score:.2f}, CER: {cer_score:.2f}\")"
   ]
  },
  {
   "cell_type": "code",
   "execution_count": 27,
   "metadata": {},
   "outputs": [
    {
     "ename": "",
     "evalue": "",
     "output_type": "error",
     "traceback": [
      "\u001b[1;31mThe Kernel crashed while executing code in the current cell or a previous cell. \n",
      "\u001b[1;31mPlease review the code in the cell(s) to identify a possible cause of the failure. \n",
      "\u001b[1;31mClick <a href='https://aka.ms/vscodeJupyterKernelCrash'>here</a> for more info. \n",
      "\u001b[1;31mView Jupyter <a href='command:jupyter.viewOutput'>log</a> for further details."
     ]
    }
   ],
   "source": [
    "df.to_csv(\"khattat_synthesizear_result.csv\")\n"
   ]
  },
  {
   "cell_type": "code",
   "execution_count": null,
   "metadata": {},
   "outputs": [],
   "source": []
  },
  {
   "cell_type": "code",
   "execution_count": null,
   "metadata": {},
   "outputs": [],
   "source": []
  }
 ],
 "metadata": {
  "kernelspec": {
   "display_name": "nlp",
   "language": "python",
   "name": "python3"
  },
  "language_info": {
   "codemirror_mode": {
    "name": "ipython",
    "version": 3
   },
   "file_extension": ".py",
   "mimetype": "text/x-python",
   "name": "python",
   "nbconvert_exporter": "python",
   "pygments_lexer": "ipython3",
   "version": "3.11.11"
  }
 },
 "nbformat": 4,
 "nbformat_minor": 2
}
