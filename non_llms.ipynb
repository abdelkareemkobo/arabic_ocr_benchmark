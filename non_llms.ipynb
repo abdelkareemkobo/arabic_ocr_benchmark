{
 "cells": [
  {
   "cell_type": "code",
   "execution_count": 37,
   "metadata": {},
   "outputs": [],
   "source": [
    "import os\n",
    "import pandas as pd\n",
    "from datasets import load_dataset\n",
    "from PIL import Image\n",
    "import torch\n",
    "import time\n",
    "import easyocr\n",
    "import pytesseract\n",
    "from jiwer import wer, cer\n",
    "from tqdm import tqdm\n",
    "import re"
   ]
  },
  {
   "cell_type": "code",
   "execution_count": 38,
   "metadata": {},
   "outputs": [],
   "source": [
    "os.environ[\"PYTORCH_CUDA_ALLOC_CONF\"] = \"expandable_segments:True\"\n",
    "pd.set_option('display.max_columns', None)\n",
    "pd.set_option('display.max_rows', None)\n",
    "pd.set_option('display.max_colwidth', None)\n",
    "pd.set_option('display.width', None)"
   ]
  },
  {
   "cell_type": "code",
   "execution_count": 39,
   "metadata": {},
   "outputs": [],
   "source": [
    "datasets_to_benchmark = [    \n",
    "    \"ahmedheakl/arocrbench_synthesizear\",\n",
    "    \"ahmedheakl/arocrbench_patsocr\",\n",
    "    \"ahmedheakl/arocrbench_arabicocr\",\n",
    "    \"ahmedheakl/arocrbench_hindawi\",\n",
    "\n",
    "]"
   ]
  },
  {
   "cell_type": "code",
   "execution_count": 40,
   "metadata": {},
   "outputs": [],
   "source": [
    "def remove_diacritics(text):\n",
    "    diacritics = [\n",
    "        '\\u0617', '\\u0618', '\\u0619', '\\u061A',\n",
    "        '\\u064B', '\\u064C', '\\u064D', '\\u064E', '\\u064F', '\\u0650',\n",
    "        '\\u0651', '\\u0652', '\\u0653', '\\u0654', '\\u0655', '\\u0656',\n",
    "        '\\u0657', '\\u0658', '\\u0659', '\\u065A', '\\u065B', '\\u065C',\n",
    "        '\\u065D', '\\u065E', '\\u065F', '\\u0670'\n",
    "    ]\n",
    "    pattern = '[' + ''.join(diacritics) + ']'\n",
    "    return re.sub(pattern, '', text)\n",
    "\n",
    "def remove_english_letters(text):\n",
    "    pattern = r'[a-zA-Z]'\n",
    "    return re.sub(pattern, '', text)\n",
    "\n",
    "def clean_text(text):\n",
    "    cleaned = re.sub(r'[\\n\\t]+', ' ', text)\n",
    "    cleaned = re.sub(r'\\s+', ' ', cleaned)\n",
    "    return cleaned.strip()\n",
    "\n"
   ]
  },
  {
   "cell_type": "code",
   "execution_count": 41,
   "metadata": {},
   "outputs": [],
   "source": [
    "import numpy as np \n",
    "easy_ocr = easyocr.Reader(['ar'])\n",
    "\n",
    "def benchmark_dataset(dataset_name, split=\"train\"):\n",
    "    print(f\"Loading dataset: {dataset_name}\")\n",
    "    dataset = load_dataset(dataset_name, split=split)\n",
    "    \n",
    "    results = []\n",
    "    sample_keys = dataset[0].keys()  \n",
    "    ground_truth_key = \"text\" if \"text\" in sample_keys else \"answer\" if \"answer\" in sample_keys else None\n",
    "    if ground_truth_key is None:\n",
    "        raise ValueError(f\"No suitable ground truth key ('text' or 'answer') found in dataset: {dataset_name}\")\n",
    "    \n",
    "    # Prepare samples\n",
    "    for sample in tqdm(dataset, desc=f\"Preparing samples from {dataset_name}\"):\n",
    "        image = sample[\"image\"]\n",
    "        if image.mode != \"RGB\":\n",
    "            image = image.convert(\"RGB\")\n",
    "        ground_truth = sample[ground_truth_key]\n",
    "        # Skip samples with empty ground truth\n",
    "        if not ground_truth or ground_truth.strip() == \"\":\n",
    "            continue\n",
    "        results.append({\n",
    "            \"dataset\": dataset_name,\n",
    "            \"image\": image,\n",
    "            \"ground_truth\": ground_truth,\n",
    "            \"easyocr\": {\"text\": None, \"time\": 0},\n",
    "            \"tesseract\": {\"text\": None, \"time\": 0},\n",
    "            \"status\": \"pending\"\n",
    "        })\n",
    "    \n",
    "    skipped_samples = 0\n",
    "    for i, sample in tqdm(enumerate(results), total=len(results), desc=f\"Benchmarking OCR on {dataset_name}\"):\n",
    "        torch.cuda.empty_cache()\n",
    "        image = sample[\"image\"]\n",
    "        \n",
    "        try:\n",
    "            # Convert PIL Image to NumPy array for EasyOCR\n",
    "            image_np = np.array(image)\n",
    "\n",
    "            # EasyOCR\n",
    "            start_time = time.time()\n",
    "            easy_result = easy_ocr.readtext(image_np)\n",
    "            easy_time = time.time() - start_time\n",
    "            easy_text = \" \".join([res[1] for res in easy_result]) if easy_result else \" \"\n",
    "            results[i][\"easyocr\"] = {\"text\": easy_text, \"time\": easy_time}\n",
    "\n",
    "            # TesseractOCR\n",
    "            start_time = time.time()\n",
    "            tess_result = pytesseract.image_to_string(image, lang='ara')\n",
    "            tess_time = time.time() - start_time\n",
    "            tess_text = tess_result if tess_result.strip() else \" \"\n",
    "            results[i][\"tesseract\"] = {\"text\": tess_text, \"time\": tess_time}\n",
    "\n",
    "            results[i][\"status\"] = \"success\"\n",
    "            \n",
    "        except Exception as e:\n",
    "            print(f\"Error processing sample {i} in {dataset_name}: {str(e)}\")\n",
    "            results[i][\"status\"] = \"error\"\n",
    "            skipped_samples += 1\n",
    "    \n",
    "    print(f\"Processed {len(results) - skipped_samples} samples successfully, skipped {skipped_samples} in {dataset_name}.\")\n",
    "    return results"
   ]
  },
  {
   "cell_type": "code",
   "execution_count": 42,
   "metadata": {},
   "outputs": [
    {
     "name": "stdout",
     "output_type": "stream",
     "text": [
      "Loading dataset: ahmedheakl/arocrbench_synthesizear\n"
     ]
    },
    {
     "name": "stderr",
     "output_type": "stream",
     "text": [
      "Preparing samples from ahmedheakl/arocrbench_synthesizear: 100%|██████████| 500/500 [00:00<00:00, 1130.54it/s]\n",
      "Benchmarking OCR on ahmedheakl/arocrbench_synthesizear: 100%|██████████| 500/500 [01:26<00:00,  5.81it/s]\n"
     ]
    },
    {
     "name": "stdout",
     "output_type": "stream",
     "text": [
      "Processed 500 samples successfully, skipped 0 in ahmedheakl/arocrbench_synthesizear.\n",
      "Loading dataset: ahmedheakl/arocrbench_patsocr\n"
     ]
    },
    {
     "name": "stderr",
     "output_type": "stream",
     "text": [
      "Preparing samples from ahmedheakl/arocrbench_patsocr: 100%|██████████| 500/500 [00:00<00:00, 687.22it/s]\n",
      "Benchmarking OCR on ahmedheakl/arocrbench_patsocr: 100%|██████████| 500/500 [01:53<00:00,  4.39it/s]\n"
     ]
    },
    {
     "name": "stdout",
     "output_type": "stream",
     "text": [
      "Processed 500 samples successfully, skipped 0 in ahmedheakl/arocrbench_patsocr.\n",
      "Loading dataset: ahmedheakl/arocrbench_arabicocr\n"
     ]
    },
    {
     "name": "stderr",
     "output_type": "stream",
     "text": [
      "Preparing samples from ahmedheakl/arocrbench_arabicocr: 100%|██████████| 50/50 [00:00<00:00, 1124.53it/s]\n",
      "Benchmarking OCR on ahmedheakl/arocrbench_arabicocr: 100%|██████████| 50/50 [00:33<00:00,  1.49it/s]\n"
     ]
    },
    {
     "name": "stdout",
     "output_type": "stream",
     "text": [
      "Processed 50 samples successfully, skipped 0 in ahmedheakl/arocrbench_arabicocr.\n",
      "Loading dataset: ahmedheakl/arocrbench_hindawi\n"
     ]
    },
    {
     "name": "stderr",
     "output_type": "stream",
     "text": [
      "Preparing samples from ahmedheakl/arocrbench_hindawi: 100%|██████████| 200/200 [00:01<00:00, 156.47it/s]\n",
      "Benchmarking OCR on ahmedheakl/arocrbench_hindawi: 100%|██████████| 200/200 [03:59<00:00,  1.20s/it]"
     ]
    },
    {
     "name": "stdout",
     "output_type": "stream",
     "text": [
      "Processed 200 samples successfully, skipped 0 in ahmedheakl/arocrbench_hindawi.\n"
     ]
    },
    {
     "name": "stderr",
     "output_type": "stream",
     "text": [
      "\n"
     ]
    }
   ],
   "source": [
    "all_results = []\n",
    "for dataset_name in datasets_to_benchmark:\n",
    "    dataset_results = benchmark_dataset(dataset_name)\n",
    "    all_results.extend(dataset_results)"
   ]
  },
  {
   "cell_type": "code",
   "execution_count": 47,
   "metadata": {},
   "outputs": [],
   "source": [
    "df = pd.DataFrame(all_results)"
   ]
  },
  {
   "cell_type": "code",
   "execution_count": 48,
   "metadata": {},
   "outputs": [
    {
     "data": {
      "text/html": [
       "<div>\n",
       "<style scoped>\n",
       "    .dataframe tbody tr th:only-of-type {\n",
       "        vertical-align: middle;\n",
       "    }\n",
       "\n",
       "    .dataframe tbody tr th {\n",
       "        vertical-align: top;\n",
       "    }\n",
       "\n",
       "    .dataframe thead th {\n",
       "        text-align: right;\n",
       "    }\n",
       "</style>\n",
       "<table border=\"1\" class=\"dataframe\">\n",
       "  <thead>\n",
       "    <tr style=\"text-align: right;\">\n",
       "      <th></th>\n",
       "      <th>dataset</th>\n",
       "      <th>image</th>\n",
       "      <th>ground_truth</th>\n",
       "      <th>easyocr</th>\n",
       "      <th>tesseract</th>\n",
       "      <th>status</th>\n",
       "    </tr>\n",
       "  </thead>\n",
       "  <tbody>\n",
       "  </tbody>\n",
       "</table>\n",
       "</div>"
      ],
      "text/plain": [
       "Empty DataFrame\n",
       "Columns: [dataset, image, ground_truth, easyocr, tesseract, status]\n",
       "Index: []"
      ]
     },
     "execution_count": 48,
     "metadata": {},
     "output_type": "execute_result"
    }
   ],
   "source": [
    "df[df['status']!='success']"
   ]
  },
  {
   "cell_type": "markdown",
   "metadata": {},
   "source": [
    "I think these didn't incluced in the benchmark\n",
    "- \"ahmedheakl/arocrbench_isippt\",\n",
    "- \"ahmedheakl/arocrbench_arabicocr\",\n",
    "-  \"ahmedheakl/arocrbench_hindawi\",\n",
    "-   \"ahmedheakl/arocrbench_evarest\""
   ]
  },
  {
   "cell_type": "code",
   "execution_count": 49,
   "metadata": {},
   "outputs": [],
   "source": [
    "\n",
    "df.to_csv(\"all_nonllms.csv\")"
   ]
  },
  {
   "cell_type": "code",
   "execution_count": 50,
   "metadata": {},
   "outputs": [
    {
     "name": "stdout",
     "output_type": "stream",
     "text": [
      "\n",
      "Results for ahmedheakl/arocrbench_synthesizear:\n",
      "easyocr:\n",
      "  WER: 1.06, CER: 0.59\n",
      "  WER (no diacritics): 0.76, CER (no diacritics): 0.46\n",
      "tesseract:\n",
      "  WER: 1.06, CER: 0.42\n",
      "  WER (no diacritics): 0.76, CER (no diacritics): 0.33\n",
      "\n",
      "Results for ahmedheakl/arocrbench_patsocr:\n",
      "easyocr:\n",
      "  WER: 0.74, CER: 0.55\n",
      "  WER (no diacritics): 0.74, CER (no diacritics): 0.55\n",
      "tesseract:\n",
      "  WER: 0.31, CER: 0.14\n",
      "  WER (no diacritics): 0.31, CER (no diacritics): 0.14\n",
      "\n",
      "Results for ahmedheakl/arocrbench_arabicocr:\n",
      "easyocr:\n",
      "  WER: 0.76, CER: 0.56\n",
      "  WER (no diacritics): 0.76, CER (no diacritics): 0.56\n",
      "tesseract:\n",
      "  WER: 0.03, CER: 0.01\n",
      "  WER (no diacritics): 0.03, CER (no diacritics): 0.01\n",
      "\n",
      "Results for ahmedheakl/arocrbench_hindawi:\n",
      "easyocr:\n",
      "  WER: 0.77, CER: 0.43\n",
      "  WER (no diacritics): 0.74, CER (no diacritics): 0.41\n",
      "tesseract:\n",
      "  WER: 0.52, CER: 0.33\n",
      "  WER (no diacritics): 0.50, CER (no diacritics): 0.31\n"
     ]
    }
   ],
   "source": [
    "for ocr_method in [\"easyocr\", \"tesseract\"]:\n",
    "    df[f\"{ocr_method}_text\"] = df[ocr_method].apply(lambda x: clean_text(str(x[\"text\"])))\n",
    "    df[f\"{ocr_method}_time\"] = df[ocr_method].apply(lambda x: x[\"time\"])\n",
    "    df[f\"{ocr_method}_text_no_diacritics\"] = df[f\"{ocr_method}_text\"].apply(remove_diacritics)\n",
    "\n",
    "df[\"ground_truth\"] = df[\"ground_truth\"].astype(str).fillna(\"\").apply(remove_english_letters).apply(clean_text)\n",
    "df[\"ground_truth_no_diacritics\"] = df[\"ground_truth\"].apply(remove_diacritics)\n",
    "\n",
    "# %%\n",
    "# Calculate metrics\n",
    "for dataset_name in datasets_to_benchmark:\n",
    "    subset_df = df[df[\"dataset\"] == dataset_name]\n",
    "    print(f\"\\nResults for {dataset_name}:\")\n",
    "    \n",
    "    for ocr_method in [\"easyocr\", \"tesseract\"]:\n",
    "        wer_score = wer(subset_df[\"ground_truth\"].tolist(), subset_df[f\"{ocr_method}_text\"].tolist())\n",
    "        cer_score = cer(subset_df[\"ground_truth\"].tolist(), subset_df[f\"{ocr_method}_text\"].tolist())\n",
    "        wer_score_t = wer(subset_df[\"ground_truth_no_diacritics\"].tolist(), subset_df[f\"{ocr_method}_text_no_diacritics\"].tolist())\n",
    "        cer_score_t = cer(subset_df[\"ground_truth_no_diacritics\"].tolist(), subset_df[f\"{ocr_method}_text_no_diacritics\"].tolist())\n",
    "        \n",
    "        print(f\"{ocr_method}:\")\n",
    "        print(f\"  WER: {wer_score:.2f}, CER: {cer_score:.2f}\")\n",
    "        print(f\"  WER (no diacritics): {wer_score_t:.2f}, CER (no diacritics): {cer_score_t:.2f}\")\n"
   ]
  },
  {
   "cell_type": "code",
   "execution_count": 51,
   "metadata": {},
   "outputs": [
    {
     "name": "stdout",
     "output_type": "stream",
     "text": [
      "Results saved to 'arabic_ocr_benchmark_results.csv'\n"
     ]
    }
   ],
   "source": [
    "\n",
    "df.to_csv(\"all_nonllms_cleaned.csv\", index=False)\n",
    "print(\"Results saved to 'arabic_ocr_benchmark_results.csv'\")"
   ]
  },
  {
   "cell_type": "code",
   "execution_count": 52,
   "metadata": {},
   "outputs": [
    {
     "data": {
      "text/html": [
       "<div>\n",
       "<style scoped>\n",
       "    .dataframe tbody tr th:only-of-type {\n",
       "        vertical-align: middle;\n",
       "    }\n",
       "\n",
       "    .dataframe tbody tr th {\n",
       "        vertical-align: top;\n",
       "    }\n",
       "\n",
       "    .dataframe thead th {\n",
       "        text-align: right;\n",
       "    }\n",
       "</style>\n",
       "<table border=\"1\" class=\"dataframe\">\n",
       "  <thead>\n",
       "    <tr style=\"text-align: right;\">\n",
       "      <th></th>\n",
       "      <th>dataset</th>\n",
       "      <th>image</th>\n",
       "      <th>ground_truth</th>\n",
       "      <th>easyocr</th>\n",
       "      <th>tesseract</th>\n",
       "      <th>status</th>\n",
       "      <th>easyocr_text</th>\n",
       "      <th>easyocr_time</th>\n",
       "      <th>easyocr_text_no_diacritics</th>\n",
       "      <th>tesseract_text</th>\n",
       "      <th>tesseract_time</th>\n",
       "      <th>tesseract_text_no_diacritics</th>\n",
       "      <th>ground_truth_no_diacritics</th>\n",
       "    </tr>\n",
       "  </thead>\n",
       "  <tbody>\n",
       "    <tr>\n",
       "      <th>0</th>\n",
       "      <td>ahmedheakl/arocrbench_synthesizear</td>\n",
       "      <td>&lt;PIL.JpegImagePlugin.JpegImageFile image mode=RGB size=639x114 at 0x7557E425C790&gt;</td>\n",
       "      <td>وَإِذا ما سَأَلَتْنِي عَن مَعْنَى لَفَظَهُ \"عرب\" عِنْدَ</td>\n",
       "      <td>{'text': 'لفظهً \" عرب \" عندً عن واذا ما سألتني معنى', 'time': 0.12821722030639648}</td>\n",
       "      <td>{'text': 'وَإِذا ما سَألْْيِي عَن مَعْنَى لَفَظَهُ \"عرب\" عِنْدَ\n",
       "', 'time': 0.054384469985961914}</td>\n",
       "      <td>success</td>\n",
       "      <td>لفظهً \" عرب \" عندً عن واذا ما سألتني معنى</td>\n",
       "      <td>0.128217</td>\n",
       "      <td>لفظه \" عرب \" عند عن واذا ما سألتني معنى</td>\n",
       "      <td>وَإِذا ما سَألْْيِي عَن مَعْنَى لَفَظَهُ \"عرب\" عِنْدَ</td>\n",
       "      <td>0.054384</td>\n",
       "      <td>وإذا ما سأليي عن معنى لفظه \"عرب\" عند</td>\n",
       "      <td>وإذا ما سألتني عن معنى لفظه \"عرب\" عند</td>\n",
       "    </tr>\n",
       "    <tr>\n",
       "      <th>1</th>\n",
       "      <td>ahmedheakl/arocrbench_synthesizear</td>\n",
       "      <td>&lt;PIL.JpegImagePlugin.JpegImageFile image mode=RGB size=1182x147 at 0x755820245950&gt;</td>\n",
       "      <td>أَمّا فَهُم النُصُوصِ وَاِسْتِنْباط مَعانِيها بِوَجْهٍ صَحِيحٌ دقيق،</td>\n",
       "      <td>{'text': '_ النضوص واستنباط قعانيها بؤجه ضجيح دقيق . أما فهم', 'time': 0.10543584823608398}</td>\n",
       "      <td>{'text': 'أما فَهُم النْصْوصٍ واشتئباط قعانيها بوكو صَحيحٌ دقيق,\n",
       "', 'time': 0.07516288757324219}</td>\n",
       "      <td>success</td>\n",
       "      <td>_ النضوص واستنباط قعانيها بؤجه ضجيح دقيق . أما فهم</td>\n",
       "      <td>0.105436</td>\n",
       "      <td>_ النضوص واستنباط قعانيها بؤجه ضجيح دقيق . أما فهم</td>\n",
       "      <td>أما فَهُم النْصْوصٍ واشتئباط قعانيها بوكو صَحيحٌ دقيق,</td>\n",
       "      <td>0.075163</td>\n",
       "      <td>أما فهم النصوص واشتئباط قعانيها بوكو صحيح دقيق,</td>\n",
       "      <td>أما فهم النصوص واستنباط معانيها بوجه صحيح دقيق،</td>\n",
       "    </tr>\n",
       "    <tr>\n",
       "      <th>2</th>\n",
       "      <td>ahmedheakl/arocrbench_synthesizear</td>\n",
       "      <td>&lt;PIL.JpegImagePlugin.JpegImageFile image mode=RGB size=994x163 at 0x7556DCDBDD50&gt;</td>\n",
       "      <td>تُثِير فِيها الاسود، وَهُوَ ما يَتَعارَض مَعَ اِكْتِشافِ</td>\n",
       "      <td>{'text': 'تثير فيها الاسود وهو ما يتعارض مع اكتشاف', 'time': 0.05660748481750488}</td>\n",
       "      <td>{'text': 'تَثْير فيها الاسود. وَهَوٍ ما تَتَعارَض مق اكْتشافيٍ\n",
       "', 'time': 0.07706618309020996}</td>\n",
       "      <td>success</td>\n",
       "      <td>تثير فيها الاسود وهو ما يتعارض مع اكتشاف</td>\n",
       "      <td>0.056607</td>\n",
       "      <td>تثير فيها الاسود وهو ما يتعارض مع اكتشاف</td>\n",
       "      <td>تَثْير فيها الاسود. وَهَوٍ ما تَتَعارَض مق اكْتشافيٍ</td>\n",
       "      <td>0.077066</td>\n",
       "      <td>تثير فيها الاسود. وهو ما تتعارض مق اكتشافي</td>\n",
       "      <td>تثير فيها الاسود، وهو ما يتعارض مع اكتشاف</td>\n",
       "    </tr>\n",
       "    <tr>\n",
       "      <th>3</th>\n",
       "      <td>ahmedheakl/arocrbench_synthesizear</td>\n",
       "      <td>&lt;PIL.JpegImagePlugin.JpegImageFile image mode=RGB size=1315x224 at 0x7557F35EC850&gt;</td>\n",
       "      <td>الجماعي، وَكادَت تَصِل إِلَى المَرْحَلَةِ الاِشْتِراكِيَّة لِسَيْطَرَةِ أَكْبَرَ</td>\n",
       "      <td>{'text': 'وكادت تصل إلى المزحلة الاشتاكيًة لسيط ة أفبر الجماعي ,', 'time': 0.104278564453125}</td>\n",
       "      <td>{'text': 'لَى المَرْحَلَةِ الإشترايّة لسَيْطرة أَخُبرَ\n",
       "الجماعي. وَكَادَت تصل إِلَى المَْحَلَةِ الاشترايّة لِسَيْط\n",
       "', 'time': 0.09968733787536621}</td>\n",
       "      <td>success</td>\n",
       "      <td>وكادت تصل إلى المزحلة الاشتاكيًة لسيط ة أفبر الجماعي ,</td>\n",
       "      <td>0.104279</td>\n",
       "      <td>وكادت تصل إلى المزحلة الاشتاكية لسيط ة أفبر الجماعي ,</td>\n",
       "      <td>لَى المَرْحَلَةِ الإشترايّة لسَيْطرة أَخُبرَ الجماعي. وَكَادَت تصل إِلَى المَْحَلَةِ الاشترايّة لِسَيْط</td>\n",
       "      <td>0.099687</td>\n",
       "      <td>لى المرحلة الإشتراية لسيطرة أخبر الجماعي. وكادت تصل إلى المحلة الاشتراية لسيط</td>\n",
       "      <td>الجماعي، وكادت تصل إلى المرحلة الاشتراكية لسيطرة أكبر</td>\n",
       "    </tr>\n",
       "    <tr>\n",
       "      <th>4</th>\n",
       "      <td>ahmedheakl/arocrbench_synthesizear</td>\n",
       "      <td>&lt;PIL.JpegImagePlugin.JpegImageFile image mode=RGB size=1224x129 at 0x7557B4671D10&gt;</td>\n",
       "      <td>مَعَهُ مَنْدِيلا فِيهِ جردقتان وَقَطَعَ لَحْم سَكْباج مُبَرَّد</td>\n",
       "      <td>{'text': 'معهً منديلا فيه جردقتان وقطع سحباج آخم مبرد', 'time': 0.11063003540039062}</td>\n",
       "      <td>{'text': 'مَعهَ منديلا فيه جردقتان وَفَطعَ لخم سه باج مبرد\n",
       "', 'time': 0.07319283485412598}</td>\n",
       "      <td>success</td>\n",
       "      <td>معهً منديلا فيه جردقتان وقطع سحباج آخم مبرد</td>\n",
       "      <td>0.110630</td>\n",
       "      <td>معه منديلا فيه جردقتان وقطع سحباج آخم مبرد</td>\n",
       "      <td>مَعهَ منديلا فيه جردقتان وَفَطعَ لخم سه باج مبرد</td>\n",
       "      <td>0.073193</td>\n",
       "      <td>معه منديلا فيه جردقتان وفطع لخم سه باج مبرد</td>\n",
       "      <td>معه منديلا فيه جردقتان وقطع لحم سكباج مبرد</td>\n",
       "    </tr>\n",
       "  </tbody>\n",
       "</table>\n",
       "</div>"
      ],
      "text/plain": [
       "                              dataset  \\\n",
       "0  ahmedheakl/arocrbench_synthesizear   \n",
       "1  ahmedheakl/arocrbench_synthesizear   \n",
       "2  ahmedheakl/arocrbench_synthesizear   \n",
       "3  ahmedheakl/arocrbench_synthesizear   \n",
       "4  ahmedheakl/arocrbench_synthesizear   \n",
       "\n",
       "                                                                                image  \\\n",
       "0   <PIL.JpegImagePlugin.JpegImageFile image mode=RGB size=639x114 at 0x7557E425C790>   \n",
       "1  <PIL.JpegImagePlugin.JpegImageFile image mode=RGB size=1182x147 at 0x755820245950>   \n",
       "2   <PIL.JpegImagePlugin.JpegImageFile image mode=RGB size=994x163 at 0x7556DCDBDD50>   \n",
       "3  <PIL.JpegImagePlugin.JpegImageFile image mode=RGB size=1315x224 at 0x7557F35EC850>   \n",
       "4  <PIL.JpegImagePlugin.JpegImageFile image mode=RGB size=1224x129 at 0x7557B4671D10>   \n",
       "\n",
       "                                                                       ground_truth  \\\n",
       "0                           وَإِذا ما سَأَلَتْنِي عَن مَعْنَى لَفَظَهُ \"عرب\" عِنْدَ   \n",
       "1              أَمّا فَهُم النُصُوصِ وَاِسْتِنْباط مَعانِيها بِوَجْهٍ صَحِيحٌ دقيق،   \n",
       "2                          تُثِير فِيها الاسود، وَهُوَ ما يَتَعارَض مَعَ اِكْتِشافِ   \n",
       "3  الجماعي، وَكادَت تَصِل إِلَى المَرْحَلَةِ الاِشْتِراكِيَّة لِسَيْطَرَةِ أَكْبَرَ   \n",
       "4                    مَعَهُ مَنْدِيلا فِيهِ جردقتان وَقَطَعَ لَحْم سَكْباج مُبَرَّد   \n",
       "\n",
       "                                                                                         easyocr  \\\n",
       "0             {'text': 'لفظهً \" عرب \" عندً عن واذا ما سألتني معنى', 'time': 0.12821722030639648}   \n",
       "1    {'text': '_ النضوص واستنباط قعانيها بؤجه ضجيح دقيق . أما فهم', 'time': 0.10543584823608398}   \n",
       "2              {'text': 'تثير فيها الاسود وهو ما يتعارض مع اكتشاف', 'time': 0.05660748481750488}   \n",
       "3  {'text': 'وكادت تصل إلى المزحلة الاشتاكيًة لسيط ة أفبر الجماعي ,', 'time': 0.104278564453125}   \n",
       "4           {'text': 'معهً منديلا فيه جردقتان وقطع سحباج آخم مبرد', 'time': 0.11063003540039062}   \n",
       "\n",
       "                                                                                                                                           tesseract  \\\n",
       "0                                                   {'text': 'وَإِذا ما سَألْْيِي عَن مَعْنَى لَفَظَهُ \"عرب\" عِنْدَ\n",
       "', 'time': 0.054384469985961914}   \n",
       "1                                                   {'text': 'أما فَهُم النْصْوصٍ واشتئباط قعانيها بوكو صَحيحٌ دقيق,\n",
       "', 'time': 0.07516288757324219}   \n",
       "2                                                     {'text': 'تَثْير فيها الاسود. وَهَوٍ ما تَتَعارَض مق اكْتشافيٍ\n",
       "', 'time': 0.07706618309020996}   \n",
       "3  {'text': 'لَى المَرْحَلَةِ الإشترايّة لسَيْطرة أَخُبرَ\n",
       "الجماعي. وَكَادَت تصل إِلَى المَْحَلَةِ الاشترايّة لِسَيْط\n",
       "', 'time': 0.09968733787536621}   \n",
       "4                                                         {'text': 'مَعهَ منديلا فيه جردقتان وَفَطعَ لخم سه باج مبرد\n",
       "', 'time': 0.07319283485412598}   \n",
       "\n",
       "    status                                            easyocr_text  \\\n",
       "0  success               لفظهً \" عرب \" عندً عن واذا ما سألتني معنى   \n",
       "1  success      _ النضوص واستنباط قعانيها بؤجه ضجيح دقيق . أما فهم   \n",
       "2  success                تثير فيها الاسود وهو ما يتعارض مع اكتشاف   \n",
       "3  success  وكادت تصل إلى المزحلة الاشتاكيًة لسيط ة أفبر الجماعي ,   \n",
       "4  success             معهً منديلا فيه جردقتان وقطع سحباج آخم مبرد   \n",
       "\n",
       "   easyocr_time                             easyocr_text_no_diacritics  \\\n",
       "0      0.128217                لفظه \" عرب \" عند عن واذا ما سألتني معنى   \n",
       "1      0.105436     _ النضوص واستنباط قعانيها بؤجه ضجيح دقيق . أما فهم   \n",
       "2      0.056607               تثير فيها الاسود وهو ما يتعارض مع اكتشاف   \n",
       "3      0.104279  وكادت تصل إلى المزحلة الاشتاكية لسيط ة أفبر الجماعي ,   \n",
       "4      0.110630             معه منديلا فيه جردقتان وقطع سحباج آخم مبرد   \n",
       "\n",
       "                                                                                            tesseract_text  \\\n",
       "0                                                    وَإِذا ما سَألْْيِي عَن مَعْنَى لَفَظَهُ \"عرب\" عِنْدَ   \n",
       "1                                                   أما فَهُم النْصْوصٍ واشتئباط قعانيها بوكو صَحيحٌ دقيق,   \n",
       "2                                                     تَثْير فيها الاسود. وَهَوٍ ما تَتَعارَض مق اكْتشافيٍ   \n",
       "3  لَى المَرْحَلَةِ الإشترايّة لسَيْطرة أَخُبرَ الجماعي. وَكَادَت تصل إِلَى المَْحَلَةِ الاشترايّة لِسَيْط   \n",
       "4                                                         مَعهَ منديلا فيه جردقتان وَفَطعَ لخم سه باج مبرد   \n",
       "\n",
       "   tesseract_time  \\\n",
       "0        0.054384   \n",
       "1        0.075163   \n",
       "2        0.077066   \n",
       "3        0.099687   \n",
       "4        0.073193   \n",
       "\n",
       "                                                    tesseract_text_no_diacritics  \\\n",
       "0                                           وإذا ما سأليي عن معنى لفظه \"عرب\" عند   \n",
       "1                                أما فهم النصوص واشتئباط قعانيها بوكو صحيح دقيق,   \n",
       "2                                     تثير فيها الاسود. وهو ما تتعارض مق اكتشافي   \n",
       "3  لى المرحلة الإشتراية لسيطرة أخبر الجماعي. وكادت تصل إلى المحلة الاشتراية لسيط   \n",
       "4                                    معه منديلا فيه جردقتان وفطع لخم سه باج مبرد   \n",
       "\n",
       "                              ground_truth_no_diacritics  \n",
       "0                  وإذا ما سألتني عن معنى لفظه \"عرب\" عند  \n",
       "1        أما فهم النصوص واستنباط معانيها بوجه صحيح دقيق،  \n",
       "2              تثير فيها الاسود، وهو ما يتعارض مع اكتشاف  \n",
       "3  الجماعي، وكادت تصل إلى المرحلة الاشتراكية لسيطرة أكبر  \n",
       "4             معه منديلا فيه جردقتان وقطع لحم سكباج مبرد  "
      ]
     },
     "execution_count": 52,
     "metadata": {},
     "output_type": "execute_result"
    },
    {
     "ename": "",
     "evalue": "",
     "output_type": "error",
     "traceback": [
      "\u001b[1;31mThe Kernel crashed while executing code in the current cell or a previous cell. \n",
      "\u001b[1;31mPlease review the code in the cell(s) to identify a possible cause of the failure. \n",
      "\u001b[1;31mClick <a href='https://aka.ms/vscodeJupyterKernelCrash'>here</a> for more info. \n",
      "\u001b[1;31mView Jupyter <a href='command:jupyter.viewOutput'>log</a> for further details."
     ]
    }
   ],
   "source": [
    "df.head()"
   ]
  },
  {
   "cell_type": "code",
   "execution_count": 52,
   "metadata": {},
   "outputs": [
    {
     "name": "stdout",
     "output_type": "stream",
     "text": [
      "Results saved to 'qari_ocr_benchmark_results.csv'\n"
     ]
    }
   ],
   "source": [
    "df.to_csv(\"nonllms_ocr_benchmark_results.csv\", index=False)\n",
    "print(\"Results saved to 'nonllms_ocr_benchmark_results.csv'\")"
   ]
  },
  {
   "cell_type": "code",
   "execution_count": null,
   "metadata": {},
   "outputs": [],
   "source": []
  }
 ],
 "metadata": {
  "kernelspec": {
   "display_name": "nlp",
   "language": "python",
   "name": "python3"
  },
  "language_info": {
   "codemirror_mode": {
    "name": "ipython",
    "version": 3
   },
   "file_extension": ".py",
   "mimetype": "text/x-python",
   "name": "python",
   "nbconvert_exporter": "python",
   "pygments_lexer": "ipython3",
   "version": "3.11.11"
  }
 },
 "nbformat": 4,
 "nbformat_minor": 2
}
